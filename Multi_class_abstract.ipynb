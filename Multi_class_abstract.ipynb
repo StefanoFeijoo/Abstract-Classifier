{
 "cells": [
  {
   "cell_type": "markdown",
   "metadata": {},
   "source": [
    "# Multi abstract classifier"
   ]
  },
  {
   "cell_type": "code",
   "execution_count": 212,
   "metadata": {
    "collapsed": false
   },
   "outputs": [],
   "source": [
    "import matplotlib.pyplot as plt\n",
    "import urllib\n",
    "import feedparser\n",
    "import random\n",
    "import os\n",
    "import time\n",
    "import pandas as pd\n",
    "\n",
    "from wordcloud import WordCloud\n",
    "%matplotlib inline"
   ]
  },
  {
   "cell_type": "markdown",
   "metadata": {
    "collapsed": true
   },
   "source": [
    "## Functions"
   ]
  },
  {
   "cell_type": "code",
   "execution_count": 213,
   "metadata": {
    "collapsed": true
   },
   "outputs": [],
   "source": [
    "def search_abstracts(search_query, start, max_results):\n",
    "    ''' Access the Arxiv API and return a collection of papers.\n",
    "        \n",
    "        Arguments:\n",
    "        search_query -- paper topic\n",
    "        start -- the starting point of papers to be selected\n",
    "        max_results -- max number of papers to be returned\n",
    "        \n",
    "    '''\n",
    "    # calling the api: http://export.arxiv.org/api/{method_name}?{parameters}\n",
    "    base_url = 'https://export.arxiv.org/api/query?';\n",
    "\n",
    "    query = 'search_query=%s&start=%i&max_results=%i' % (search_query,\n",
    "                                                     start,\n",
    "                                                     max_results)\n",
    "\n",
    "    feedparser._FeedParserMixin.namespaces['http://a9.com/-/spec/opensearch/1.1/'] = 'opensearch'\n",
    "    feedparser._FeedParserMixin.namespaces['http://arxiv.org/schemas/atom'] = 'arxiv'\n",
    "\n",
    "    # perform a GET request using the base_url and query\n",
    "    response = urllib.request.urlopen(base_url+query).read()\n",
    "    feed = feedparser.parse(response)\n",
    "    return feed"
   ]
  },
  {
   "cell_type": "code",
   "execution_count": 214,
   "metadata": {
    "collapsed": true
   },
   "outputs": [],
   "source": [
    "def create_files():\n",
    "    physics_feed = search_abstracts('all:physics', start = 3000, max_results = 50)\n",
    "    math_feed = search_abstracts('all:math', start = 3000, max_results = 50)\n",
    "    chem_feed = search_abstracts('all:chemistry', start = 3000, max_results = 50)\n",
    "\n",
    "    physics_abstracts = [entry.summary for entry in physics_feed.entries]\n",
    "    math_abstracts = [entry.summary for entry in math_feed.entries]\n",
    "    chem_abstracts = [entry.summary for entry in chem_feed.entries]\n",
    "\n",
    "    all_abst = physics_abstracts + math_abstracts + chem_abstracts\n",
    "\n",
    "    random.shuffle(all_abst)\n",
    "\n",
    "    # get current directory\n",
    "    current_dir = os.getcwd()\n",
    "    new_folder_path = current_dir+os.sep+'Multi_abstracts_files'\n",
    "    try:\n",
    "        os.mkdir(new_folder_path)\n",
    "    except FileExistsError:\n",
    "        pass\n",
    "    \n",
    "    for abstr in range(len(all_abst)):\n",
    "        name = 'file'+'_'+str(abstr)+'.txt'\n",
    "        with open(new_folder_path+os.sep+name, 'w') as f:\n",
    "            f.write(all_abst[abstr])\n",
    "    return new_folder_path"
   ]
  },
  {
   "cell_type": "code",
   "execution_count": 215,
   "metadata": {
    "collapsed": false
   },
   "outputs": [],
   "source": [
    "def classify_abstract(path_to_files, classifier, tff):\n",
    "    for file in os.listdir(path_to_files):\n",
    "        with open(path_to_files+os.sep+file, 'r') as f:\n",
    "            \n",
    "            trans = tff.transform([f.read()]).toarray()\n",
    "            \n",
    "            abstr_class = classifier.predict(trans)\n",
    "      \n",
    "            if abstr_class == 0:\n",
    "                abstr_class = 'physics'\n",
    "            if abstr_class == 1:\n",
    "                abstr_class = 'math'\n",
    "            if abstr_class == 2:\n",
    "                abstr_class = 'chemistry'\n",
    "                \n",
    "            abstr_class_path = path_to_files+os.sep+abstr_class+'_abstracts'\n",
    "            \n",
    "            try:\n",
    "                os.mkdir(abstr_class_path)\n",
    "            except FileExistsError:\n",
    "                pass\n",
    "            os.rename(f.name, abstr_class_path+os.sep+abstr_class+'_'+file)"
   ]
  },
  {
   "cell_type": "code",
   "execution_count": 216,
   "metadata": {
    "collapsed": true
   },
   "outputs": [],
   "source": [
    "def createWordCloud(words, stopwords):\n",
    "    wordcloud = WordCloud(max_words = 20, stopwords = stopwords)\n",
    "    wordcloud.generate(' '.join(words))\n",
    "    plt.imshow(wordcloud, interpolation='bilinear')\n",
    "    plt.axis(\"off\")\n",
    "    plt.figure()\n",
    "    plt.show()"
   ]
  },
  {
   "cell_type": "code",
   "execution_count": 217,
   "metadata": {
    "collapsed": true
   },
   "outputs": [],
   "source": [
    "st = time.time()\n",
    "# Search for physics, math, chemistry papers\n",
    "physics_feed = search_abstracts('all:physics', start = 0, max_results = 3000)\n",
    "math_feed = search_abstracts('all:math', start = 0, max_results = 3000)\n",
    "chem_feed = search_abstracts('all:chemistry', start = 0, max_results= 3000)"
   ]
  },
  {
   "cell_type": "code",
   "execution_count": 218,
   "metadata": {
    "collapsed": true
   },
   "outputs": [],
   "source": [
    "# Create dictionaries for each topic\n",
    "physics_abstracts = { 'Types': ['Physics' for _ in range(len(physics_feed.entries))],\n",
    "                     'Labels': [ 0 for _ in range(len(physics_feed.entries))], \n",
    "                    'Abstracts': [entry.summary for entry in physics_feed.entries]}\n",
    "\n",
    "math_abstracts = { 'Types': ['Math' for _ in range(len(math_feed.entries))],\n",
    "                    'Labels': [ 1 for _ in range(len(math_feed.entries))], \n",
    "                    'Abstracts': [entry.summary for entry in math_feed.entries]}\n",
    "\n",
    "chem_abstracts = { 'Types': ['Chemistry' for _ in range(len(chem_feed.entries))],\n",
    "                'Labels': [ 2 for _ in range(len(chem_feed.entries))], \n",
    "                    'Abstracts': [entry.summary for entry in chem_feed.entries]}"
   ]
  },
  {
   "cell_type": "code",
   "execution_count": 219,
   "metadata": {
    "collapsed": true
   },
   "outputs": [],
   "source": [
    "# Place all topics in panda dataframe\n",
    "physics_df = pd.DataFrame(physics_abstracts)\n",
    "math_df = pd.DataFrame(math_abstracts)\n",
    "chem_df = pd.DataFrame(chem_abstracts)\n",
    "frames = [physics_df, math_df, chem_df]\n",
    "all_df = pd.concat(frames)\n",
    "all_df = all_df.sample(frac =1).reset_index(drop = True)"
   ]
  },
  {
   "cell_type": "code",
   "execution_count": 220,
   "metadata": {
    "collapsed": false
   },
   "outputs": [],
   "source": [
    "# Used to obtain a Term-frequency, Inverser Document frequency matrix of features from raw documents  \n",
    "\n",
    "from sklearn.feature_extraction.text import TfidfVectorizer\n",
    "tfidf = TfidfVectorizer(sublinear_tf = True, lowercase = True, min_df = 5, norm = 'l2', encoding = 'latin-1', \n",
    "                       ngram_range = (1,2), stop_words = 'english')\n",
    "features = tfidf.fit_transform(all_df.Abstracts).toarray()\n",
    "labels = all_df.Labels"
   ]
  },
  {
   "cell_type": "code",
   "execution_count": 221,
   "metadata": {
    "collapsed": false
   },
   "outputs": [
    {
     "name": "stdout",
     "output_type": "stream",
     "text": [
      "Area: Physics\n",
      "Most correlated unigrams: chemistry, physical, physics\n",
      "Most correlated bigrams: particle physics, standard model, new physics\n",
      "********************\n",
      "Area: Math\n",
      "Most correlated unigrams: physics, prove, math\n",
      "Most correlated bigrams: new physics, math soc, math phys\n",
      "********************\n",
      "Area: Chemistry\n",
      "Most correlated unigrams: molecular, chemical, chemistry\n",
      "Most correlated bigrams: physics chemistry, gas phase, quantum chemistry\n",
      "********************\n"
     ]
    }
   ],
   "source": [
    "# Use chi2 score to select the features with the highest values\n",
    "# find terms that are most correlated to each area\n",
    "\n",
    "from sklearn.feature_selection import chi2\n",
    "import numpy as np\n",
    "N = 3\n",
    "for i in range(3):\n",
    "    features_chi2 = chi2(features, labels == i)\n",
    "    chi2_indices = np.argsort(features_chi2[0])\n",
    "    feature_names = np.array(tfidf.get_feature_names())[chi2_indices]\n",
    "    unigrams = [v for v in feature_names if len(v.split(' ')) == 1]\n",
    "    bigrams = [v for v in feature_names if len(v.split(' ')) == 2]\n",
    "    print(\"Area:\", all_df.Types[all_df.Labels == i].values[0])\n",
    "    print(\"Most correlated unigrams:\", ', '.join(unigrams[-N:]))\n",
    "    print(\"Most correlated bigrams:\", ', '.join(bigrams[-N:]))\n",
    "    print('*'*20)"
   ]
  },
  {
   "cell_type": "code",
   "execution_count": 222,
   "metadata": {
    "collapsed": false
   },
   "outputs": [],
   "source": [
    "#Split the data into training and test data\n",
    "from sklearn.model_selection import train_test_split\n",
    "\n",
    "# Convert a collection of text documents to a matrix of token counts\n",
    "from sklearn.feature_extraction.text import CountVectorizer\n",
    "\n",
    "# Transform a count matrix to a normalized tf or tf-idf\n",
    "from sklearn.feature_extraction.text import TfidfTransformer\n",
    "\n",
    "#\n",
    "from sklearn.naive_bayes import MultinomialNB\n",
    "\n",
    "X_train, X_test, y_train, y_test = train_test_split(all_df['Abstracts'], all_df['Types'],test_size= 0.1, random_state = 0)\n",
    "\n",
    "# Use CountVectorizer followed by TfidfTransformer\n",
    "count_vect = CountVectorizer(lowercase = True, stop_words ='english', min_df = 5)\n",
    "X_train_counts = count_vect.fit_transform(X_train)\n",
    "tfidf_transformer = TfidfTransformer()\n",
    "X_train_tfidf = tfidf_transformer.fit_transform(X_train_counts)\n",
    "\n",
    "# Apply model\n",
    "clf = MultinomialNB().fit(X_train_tfidf, y_train)\n"
   ]
  },
  {
   "cell_type": "code",
   "execution_count": 223,
   "metadata": {
    "collapsed": false
   },
   "outputs": [
    {
     "data": {
      "text/plain": [
       "\"Many {\\\\it ribosomes} simultaneously move on the same messenger RNA (mRNA),\\neach synthesizing separately a copy of the same protein. In contrast to the\\nearlier models, here {\\\\it we develop a ``unified'' theoretical model} that not\\nonly incorporates the {\\\\it mutual exclusions} of the interacting ribosomes, but\\nalso describes explicitly the mechano-chemistry of each of these macromolecular\\nmachines during protein synthesis. Using analytical and numerical techniques of\\nnon-equilibrium statistical mechanics, we analyze the rates of protein\\nsynthesis and the spatio-temporal organization of the ribosomes in this model.\\nWe also predict how these properties would change with the changes in the rates\\nof the various chemo-mechanical processes in each ribosome. Finally, we\\nillustrate the power of this model by making experimentally testable\\npredictions on the rates of protein synthesis and the density profiles of the\\nribosomes on some mRNAs in {\\\\it E-coli}.\""
      ]
     },
     "execution_count": 223,
     "metadata": {},
     "output_type": "execute_result"
    }
   ],
   "source": [
    "X_test.values[0]"
   ]
  },
  {
   "cell_type": "code",
   "execution_count": 224,
   "metadata": {
    "collapsed": false
   },
   "outputs": [
    {
     "data": {
      "text/plain": [
       "'Chemistry'"
      ]
     },
     "execution_count": 224,
     "metadata": {},
     "output_type": "execute_result"
    }
   ],
   "source": [
    "y_test.values[0]"
   ]
  },
  {
   "cell_type": "code",
   "execution_count": 225,
   "metadata": {
    "collapsed": false
   },
   "outputs": [
    {
     "name": "stdout",
     "output_type": "stream",
     "text": [
      "['Chemistry']\n"
     ]
    }
   ],
   "source": [
    "print(clf.predict(count_vect.transform([X_test.values[0]])))"
   ]
  },
  {
   "cell_type": "code",
   "execution_count": 226,
   "metadata": {
    "collapsed": false
   },
   "outputs": [
    {
     "data": {
      "text/plain": [
       "'The Poincare-Hopf Theorem is one of the most used in other areas of science.\\nThere are applications of the Poincare-Hopf Theorem in physics, chemistry,\\nbiology and even in economics, psychology, etc ... The Poincare-Hopf Theorem\\nconnects an invariant of combinatorial, the character of Euler-Poincare to an\\ninvariant of differential geometry, index of vector fields. The results that\\nconnect two very different areas of mathematics can be considered as the most\\nbeautiful, useful and fruitful.'"
      ]
     },
     "execution_count": 226,
     "metadata": {},
     "output_type": "execute_result"
    }
   ],
   "source": [
    "X_test.values[1]"
   ]
  },
  {
   "cell_type": "code",
   "execution_count": 228,
   "metadata": {
    "collapsed": false
   },
   "outputs": [
    {
     "data": {
      "text/plain": [
       "'Chemistry'"
      ]
     },
     "execution_count": 228,
     "metadata": {},
     "output_type": "execute_result"
    }
   ],
   "source": [
    "y_test.values[1]"
   ]
  },
  {
   "cell_type": "code",
   "execution_count": 229,
   "metadata": {
    "collapsed": false
   },
   "outputs": [
    {
     "name": "stdout",
     "output_type": "stream",
     "text": [
      "['Physics']\n"
     ]
    }
   ],
   "source": [
    "print(clf.predict(count_vect.transform([X_test.values[1]])))"
   ]
  },
  {
   "cell_type": "code",
   "execution_count": 230,
   "metadata": {
    "collapsed": false
   },
   "outputs": [],
   "source": [
    "# Select a number of classifier and use cross validation to select the best one\n",
    "from sklearn.linear_model import LogisticRegression\n",
    "from sklearn.ensemble import RandomForestClassifier\n",
    "from sklearn.svm import LinearSVC\n",
    "from sklearn.model_selection import cross_val_score\n",
    "\n",
    "classifiers = [\n",
    "    RandomForestClassifier(n_estimators=200, max_depth=3, random_state=0),\n",
    "    LinearSVC(),\n",
    "    MultinomialNB(),\n",
    "    LogisticRegression(random_state=0),\n",
    "]\n",
    "crossVal = 5\n",
    "crossVal_df = pd.DataFrame(index=range(crossVal * len(classifiers)))\n",
    "values = []\n",
    "for classifier in classifiers:\n",
    "    classifier_name = classifier.__class__.__name__\n",
    "    accuracies = cross_val_score(classifier, features, labels, scoring='accuracy', cv=crossVal)\n",
    "    for fold_indx, accuracy in enumerate(accuracies):\n",
    "        values.append((classifier_name, fold_indx, accuracy))\n",
    "\n",
    "crossVal_df = pd.DataFrame(values, columns=['classifier_name', 'fold_indx', 'accuracy'])\n"
   ]
  },
  {
   "cell_type": "code",
   "execution_count": 232,
   "metadata": {
    "collapsed": false
   },
   "outputs": [
    {
     "data": {
      "image/png": "[encoded data removed]",
      "text/plain": [
       "<matplotlib.figure.Figure at 0x1229bef28>"
      ]
     },
     "metadata": {},
     "output_type": "display_data"
    }
   ],
   "source": [
    "# Plot the classifiers accuracy\n",
    "import seaborn as sns\n",
    "\n",
    "sns.boxplot(x='classifier_name', y='accuracy', data=crossVal_df)\n",
    "sns.stripplot(x='classifier_name', y='accuracy', data=crossVal_df, \n",
    "              size=8, jitter=True, edgecolor=\"gray\", linewidth=2)\n",
    "plt.show()"
   ]
  },
  {
   "cell_type": "code",
   "execution_count": 233,
   "metadata": {
    "collapsed": false
   },
   "outputs": [
    {
     "name": "stdout",
     "output_type": "stream",
     "text": [
      "classifier_name\n",
      "LinearSVC                 0.888111\n",
      "LogisticRegression        0.888222\n",
      "MultinomialNB             0.857111\n",
      "RandomForestClassifier    0.807444\n",
      "Name: accuracy, dtype: float64\n"
     ]
    }
   ],
   "source": [
    "# Selecte the best classifier\n",
    "model_classif_mean = crossVal_df.groupby('classifier_name').accuracy.mean()\n",
    "print(model_classif_mean)\n",
    "best_classif_name = model_classif_mean[model_classif_mean == model_classif_mean.max()].index[0]\n",
    "for classifier in classifiers:\n",
    "    if classifier.__class__.__name__ == best_classif_name:\n",
    "        selected_classifier = classifier"
   ]
  },
  {
   "cell_type": "code",
   "execution_count": 234,
   "metadata": {
    "collapsed": false
   },
   "outputs": [
    {
     "data": {
      "text/plain": [
       "LogisticRegression(C=1.0, class_weight=None, dual=False, fit_intercept=True,\n",
       "          intercept_scaling=1, max_iter=100, multi_class='ovr', n_jobs=1,\n",
       "          penalty='l2', random_state=0, solver='liblinear', tol=0.0001,\n",
       "          verbose=0, warm_start=False)"
      ]
     },
     "execution_count": 234,
     "metadata": {},
     "output_type": "execute_result"
    }
   ],
   "source": [
    "selected_classifier"
   ]
  },
  {
   "cell_type": "code",
   "execution_count": 238,
   "metadata": {
    "collapsed": false
   },
   "outputs": [],
   "source": [
    "# Train the selected classifier and plot the actual vs predicted results\n",
    "X_train, X_test, y_train, y_test, indices_train, indices_test = train_test_split(features, labels, all_df.index, test_size=0.1, random_state=0)\n",
    "\n",
    "selected_classifier.fit(X_train, y_train)\n",
    "y_pred = selected_classifier.predict(X_test)\n",
    "\n",
    "#selected_classifier.fit(X_train_tfidf, y_train)\n",
    "#y_pred = selected_classifier.predict(count_vect.transform(X_test.values))\n"
   ]
  },
  {
   "cell_type": "code",
   "execution_count": 239,
   "metadata": {
    "collapsed": false
   },
   "outputs": [
    {
     "data": {
      "image/png": "[encoded data removed]",
      "text/plain": [
       "<matplotlib.figure.Figure at 0x120dd6cf8>"
      ]
     },
     "metadata": {},
     "output_type": "display_data"
    }
   ],
   "source": [
    "from sklearn.metrics import confusion_matrix\n",
    "conf_mat = confusion_matrix(y_test, y_pred, labels = [0,1,2])\n",
    "\n",
    "fig, ax = plt.subplots(figsize=(10,10))\n",
    "sns.heatmap(conf_mat, cmap=\"YlGnBu\", annot=True, fmt='d',\n",
    "            xticklabels=['Physics', 'Math', 'Chemistry'], yticklabels=['Physics','Math', 'Chemistry'])\n",
    "plt.ylabel('Actual')\n",
    "plt.xlabel('Predicted')\n",
    "plt.show()"
   ]
  },
  {
   "cell_type": "code",
   "execution_count": 240,
   "metadata": {
    "collapsed": false
   },
   "outputs": [],
   "source": [
    "path = create_files()"
   ]
  },
  {
   "cell_type": "code",
   "execution_count": 241,
   "metadata": {
    "collapsed": true
   },
   "outputs": [],
   "source": [
    "classify_abstract(path, selected_classifier, tfidf)"
   ]
  },
  {
   "cell_type": "code",
   "execution_count": 242,
   "metadata": {
    "collapsed": false
   },
   "outputs": [
    {
     "data": {
      "text/plain": [
       "52"
      ]
     },
     "execution_count": 242,
     "metadata": {},
     "output_type": "execute_result"
    }
   ],
   "source": [
    "len(os.listdir('Multi_abstracts_files/math_abstracts/'))"
   ]
  },
  {
   "cell_type": "code",
   "execution_count": 243,
   "metadata": {
    "collapsed": false
   },
   "outputs": [
    {
     "data": {
      "text/plain": [
       "52"
      ]
     },
     "execution_count": 243,
     "metadata": {},
     "output_type": "execute_result"
    }
   ],
   "source": [
    "len(os.listdir('Multi_abstracts_files/chemistry_abstracts/'))"
   ]
  },
  {
   "cell_type": "code",
   "execution_count": 244,
   "metadata": {
    "collapsed": false
   },
   "outputs": [
    {
     "data": {
      "text/plain": [
       "46"
      ]
     },
     "execution_count": 244,
     "metadata": {},
     "output_type": "execute_result"
    }
   ],
   "source": [
    "len(os.listdir('Multi_abstracts_files/physics_abstracts/'))"
   ]
  },
  {
   "cell_type": "code",
   "execution_count": null,
   "metadata": {
    "collapsed": true
   },
   "outputs": [],
   "source": []
  }
 ],
 "metadata": {
  "anaconda-cloud": {},
  "kernelspec": {
   "display_name": "Python [snakes]",
   "language": "python",
   "name": "Python [snakes]"
  },
  "language_info": {
   "codemirror_mode": {
    "name": "ipython",
    "version": 3
   },
   "file_extension": ".py",
   "mimetype": "text/x-python",
   "name": "python",
   "nbconvert_exporter": "python",
   "pygments_lexer": "ipython3",
   "version": "3.5.3"
  }
 },
 "nbformat": 4,
 "nbformat_minor": 2
}
