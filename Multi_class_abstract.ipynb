{
 "cells": [
  {
   "cell_type": "markdown",
   "metadata": {},
   "source": [
    "# Multi abstract classifier"
   ]
  },
  {
   "cell_type": "code",
   "execution_count": 1,
   "metadata": {},
   "outputs": [],
   "source": [
    "%matplotlib inline\n",
    "\n",
    "import matplotlib.pyplot as plt\n",
    "import urllib\n",
    "import feedparser\n",
    "import random\n",
    "import os\n",
    "import time\n",
    "import pandas as pd"
   ]
  },
  {
   "cell_type": "markdown",
   "metadata": {
    "collapsed": true
   },
   "source": [
    "## Functions"
   ]
  },
  {
   "cell_type": "code",
   "execution_count": 2,
   "metadata": {},
   "outputs": [],
   "source": [
    "def search_abstracts(search_query, start, max_results):\n",
    "    ''' Access the Arxiv API and return a collection of papers.\n",
    "        \n",
    "        Arguments:\n",
    "        \n",
    "        search_query -- paper topic\n",
    "        start -- the starting point of papers to be selected\n",
    "        max_results -- max number of papers to be returned\n",
    "        \n",
    "        --------        \n",
    "        return:\n",
    "        \n",
    "        feed -- a collection of papers with a variety of information\n",
    "        \n",
    "    '''\n",
    "    # calling the api: http://export.arxiv.org/api/{method_name}?{parameters}\n",
    "    base_url = 'https://export.arxiv.org/api/query?';\n",
    "\n",
    "    query = 'search_query=%s&start=%i&max_results=%i' % (search_query,\n",
    "                                                     start,\n",
    "                                                     max_results)\n",
    "\n",
    "    feedparser._FeedParserMixin.namespaces['http://a9.com/-/spec/opensearch/1.1/'] = 'opensearch'\n",
    "    feedparser._FeedParserMixin.namespaces['http://arxiv.org/schemas/atom'] = 'arxiv'\n",
    "\n",
    "    # perform a GET request using the base_url and query\n",
    "    response = urllib.request.urlopen(base_url+query).read()\n",
    "    feed = feedparser.parse(response)\n",
    "    return feed"
   ]
  },
  {
   "cell_type": "code",
   "execution_count": 3,
   "metadata": {},
   "outputs": [],
   "source": [
    "def create_files():\n",
    "    ''' Create a folder on the current working directory containing a list of abstracts from multiple classes'''\n",
    "    \n",
    "    # Search for a set of new abstracts (not used for training or testing)\n",
    "    physics_feed = search_abstracts('all:physics', start = 3000, max_results = 100)\n",
    "    math_feed = search_abstracts('all:math', start = 3000, max_results = 100)\n",
    "    chem_feed = search_abstracts('all:chemistry', start = 3000, max_results = 100)\n",
    "    hist_feed = search_abstracts('all:history', start = 3000, max_results= 100)\n",
    "    bio_feed = search_abstracts('all:biology', start = 3000, max_results= 100)\n",
    "\n",
    "    physics_abstracts = [entry.summary for entry in physics_feed.entries]\n",
    "    math_abstracts = [entry.summary for entry in math_feed.entries]\n",
    "    chem_abstracts = [entry.summary for entry in chem_feed.entries]\n",
    "    hist_abstracts = [entry.summary for entry in hist_feed.entries]\n",
    "    bio_abstracts = [entry.summary for entry in bio_feed.entries]\n",
    "\n",
    "    all_abst = physics_abstracts + math_abstracts + chem_abstracts + hist_abstracts + bio_abstracts\n",
    "\n",
    "    random.shuffle(all_abst)\n",
    "\n",
    "    # get current directory and create new folder\n",
    "    current_dir = os.getcwd()\n",
    "    new_folder_path = current_dir+os.sep+'Multi_abstracts_files'\n",
    "    try:\n",
    "        os.mkdir(new_folder_path)\n",
    "    except FileExistsError:\n",
    "        pass\n",
    "    \n",
    "    # Save all the abstracts to this new directory\n",
    "    for abstr in range(len(all_abst)):\n",
    "        name = 'file'+'_'+str(abstr)+'.txt'\n",
    "        with open(new_folder_path+os.sep+name, 'w') as f:\n",
    "            f.write(all_abst[abstr])\n",
    "    return new_folder_path"
   ]
  },
  {
   "cell_type": "code",
   "execution_count": 4,
   "metadata": {},
   "outputs": [],
   "source": [
    "def classify_abstract(path_to_files, classifier, Tfidf):\n",
    "    ''' Use the trained classifier to correctly label the downloaded abstracts after using create_files(). \n",
    "        Create folders containing each type of abstract.\n",
    "        \n",
    "        Argumenst:\n",
    "        \n",
    "        path_to_files -- path to the created files after using create_files()\n",
    "        classifier -- trained classisfier\n",
    "        Tfidf -- TfidfVectorizer() object\n",
    "        \n",
    "    '''\n",
    "    \n",
    "    for file in os.listdir(path_to_files):\n",
    "        with open(path_to_files+os.sep+file, 'r') as f:\n",
    "            \n",
    "            trans = Tfidf.transform([f.read()]).toarray()\n",
    "            \n",
    "            abstr_class = classifier.predict(trans)\n",
    "      \n",
    "            if abstr_class == 0:\n",
    "                abstr_class = 'physics'\n",
    "            if abstr_class == 1:\n",
    "                abstr_class = 'math'\n",
    "            if abstr_class == 2:\n",
    "                abstr_class = 'chemistry'\n",
    "            if abstr_class == 3:\n",
    "                abstr_class = 'history'\n",
    "            if abstr_class == 4:\n",
    "                abstr_class = 'biology'\n",
    "                \n",
    "            abstr_class_path = path_to_files+os.sep+abstr_class+'_abstracts'\n",
    "            \n",
    "            try:\n",
    "                os.mkdir(abstr_class_path)\n",
    "            except FileExistsError:\n",
    "                pass\n",
    "        os.rename(f.name, abstr_class_path+os.sep+abstr_class+'_'+file)"
   ]
  },
  {
   "cell_type": "markdown",
   "metadata": {},
   "source": [
    "## Create dataset"
   ]
  },
  {
   "cell_type": "code",
   "execution_count": 5,
   "metadata": {},
   "outputs": [
    {
     "name": "stdout",
     "output_type": "stream",
     "text": [
      "time spent: 481.7143905162811\n"
     ]
    }
   ],
   "source": [
    "st = time.time()\n",
    "# Search for physics, math, chemistry papers\n",
    "physics_feed = search_abstracts('all:physics', start = 0, max_results = 5000)\n",
    "math_feed = search_abstracts('all:math', start = 0, max_results = 5000)\n",
    "chem_feed = search_abstracts('all:chemistry', start = 0, max_results= 5000)\n",
    "hist_feed = search_abstracts('all:history', start = 0, max_results= 5000)\n",
    "bio_feed = search_abstracts('all:biology', start = 0, max_results= 5000)\n",
    "end = time.time()\n",
    "print('time spent:',end-st)"
   ]
  },
  {
   "cell_type": "code",
   "execution_count": 6,
   "metadata": {},
   "outputs": [],
   "source": [
    "# Create dictionaries for each topic\n",
    "physics_abstracts = { 'Types': ['Physics' for _ in range(len(physics_feed.entries))],\n",
    "                     'Labels': [ 0 for _ in range(len(physics_feed.entries))], \n",
    "                    'Abstracts': [entry.summary for entry in physics_feed.entries]}\n",
    "\n",
    "math_abstracts = { 'Types': ['Math' for _ in range(len(math_feed.entries))],\n",
    "                    'Labels': [ 1 for _ in range(len(math_feed.entries))], \n",
    "                    'Abstracts': [entry.summary for entry in math_feed.entries]}\n",
    "\n",
    "chem_abstracts = { 'Types': ['Chemistry' for _ in range(len(chem_feed.entries))],\n",
    "                'Labels': [ 2 for _ in range(len(chem_feed.entries))], \n",
    "                    'Abstracts': [entry.summary for entry in chem_feed.entries]}\n",
    "\n",
    "hist_abstracts = { 'Types': ['History' for _ in range(len(hist_feed.entries))],\n",
    "                'Labels': [ 3 for _ in range(len(hist_feed.entries))], \n",
    "                    'Abstracts': [entry.summary for entry in hist_feed.entries]}\n",
    "\n",
    "bio_abstracts = { 'Types': ['biology' for _ in range(len(bio_feed.entries))],\n",
    "                'Labels': [ 4 for _ in range(len(bio_feed.entries))], \n",
    "                    'Abstracts': [entry.summary for entry in bio_feed.entries]}"
   ]
  },
  {
   "cell_type": "code",
   "execution_count": 7,
   "metadata": {},
   "outputs": [],
   "source": [
    "# Place all topics in panda dataframe\n",
    "physics_df = pd.DataFrame(physics_abstracts)\n",
    "math_df = pd.DataFrame(math_abstracts)\n",
    "chem_df = pd.DataFrame(chem_abstracts)\n",
    "hist_df = pd.DataFrame(hist_abstracts)\n",
    "bio_df = pd.DataFrame(bio_abstracts)\n",
    "\n",
    "frames = [physics_df, math_df, chem_df, hist_df, bio_df]\n",
    "all_df = pd.concat(frames)\n",
    "all_df = all_df.sample(frac =1).reset_index(drop = True)"
   ]
  },
  {
   "cell_type": "markdown",
   "metadata": {},
   "source": [
    "## Create features"
   ]
  },
  {
   "cell_type": "code",
   "execution_count": 8,
   "metadata": {},
   "outputs": [],
   "source": [
    "# Used to obtain a Term-frequency, Inverser Document frequency matrix of features from raw documents  \n",
    "\n",
    "from sklearn.feature_extraction.text import TfidfVectorizer\n",
    "tfidf = TfidfVectorizer(sublinear_tf = True, lowercase = True, min_df = 5, norm = 'l2', encoding = 'latin-1', \n",
    "                       ngram_range = (1,2), stop_words = 'english')\n",
    "features = tfidf.fit_transform(all_df.Abstracts).toarray()\n",
    "labels = all_df.Labels"
   ]
  },
  {
   "cell_type": "code",
   "execution_count": 9,
   "metadata": {},
   "outputs": [
    {
     "name": "stdout",
     "output_type": "stream",
     "text": [
      "Area: Physics\n",
      "Most correlated unigrams: lhc, physical, physics\n",
      "Most correlated bigrams: particle physics, standard model, new physics\n",
      "********************\n",
      "Area: Math\n",
      "Most correlated unigrams: algebra, prove, math\n",
      "Most correlated bigrams: amer math, math soc, math phys\n",
      "********************\n",
      "Area: Chemistry\n",
      "Most correlated unigrams: molecular, chemical, chemistry\n",
      "Most correlated bigrams: density functional, gas phase, quantum chemistry\n",
      "********************\n",
      "Area: History\n",
      "Most correlated unigrams: galaxies, histories, history\n",
      "Most correlated bigrams: formation histories, formation history, star formation\n",
      "********************\n",
      "Area: biology\n",
      "Most correlated unigrams: networks, biological, biology\n",
      "Most correlated bigrams: gene expression, computational biology, systems biology\n",
      "********************\n"
     ]
    }
   ],
   "source": [
    "# Use chi2 score to select the features with the highest values\n",
    "# find terms that are most correlated to each area\n",
    "\n",
    "from sklearn.feature_selection import chi2\n",
    "import numpy as np\n",
    "N = 3\n",
    "for i in range(5):\n",
    "    features_chi2 = chi2(features, labels == i)\n",
    "    chi2_indices = np.argsort(features_chi2[0])\n",
    "    feature_names = np.array(tfidf.get_feature_names())[chi2_indices]\n",
    "    unigrams = [v for v in feature_names if len(v.split(' ')) == 1]\n",
    "    bigrams = [v for v in feature_names if len(v.split(' ')) == 2]\n",
    "    print(\"Area:\", all_df.Types[all_df.Labels == i].values[0])\n",
    "    print(\"Most correlated unigrams:\", ', '.join(unigrams[-N:]))\n",
    "    print(\"Most correlated bigrams:\", ', '.join(bigrams[-N:]))\n",
    "    print('*'*20)"
   ]
  },
  {
   "cell_type": "markdown",
   "metadata": {},
   "source": [
    "## Test first learning algorithm"
   ]
  },
  {
   "cell_type": "code",
   "execution_count": 10,
   "metadata": {},
   "outputs": [],
   "source": [
    "#Split the data into training and test data\n",
    "from sklearn.model_selection import train_test_split\n",
    "\n",
    "# Convert a collection of text documents to a matrix of token counts\n",
    "from sklearn.feature_extraction.text import CountVectorizer\n",
    "\n",
    "# Transform a count matrix to a normalized tf or tf-idf\n",
    "from sklearn.feature_extraction.text import TfidfTransformer\n",
    "\n",
    "# Test MultinamialNB algorithm\n",
    "from sklearn.naive_bayes import MultinomialNB\n",
    "\n",
    "X_train, X_test, y_train, y_test = train_test_split(all_df['Abstracts'], all_df['Types'],test_size= 0.1, random_state = 0)\n",
    "\n",
    "# Use CountVectorizer followed by TfidfTransformer\n",
    "count_vect = CountVectorizer(lowercase = True, stop_words ='english', min_df = 5)\n",
    "X_train_counts = count_vect.fit_transform(X_train)\n",
    "tfidf_transformer = TfidfTransformer()\n",
    "X_train_tfidf = tfidf_transformer.fit_transform(X_train_counts)\n",
    "\n",
    "# Apply model\n",
    "clf = MultinomialNB().fit(X_train_tfidf, y_train)\n"
   ]
  },
  {
   "cell_type": "code",
   "execution_count": 11,
   "metadata": {},
   "outputs": [
    {
     "data": {
      "text/plain": [
       "'The domain of validity of the higher-order Schrodinger equations is analyzed\\nfor harmonic-oscillator and Coulomb potentials as typical examples. Then the\\nCauchy theory for higher-order Hartree-Fock equations with bounded and Coulomb\\npotentials is developed. Finally, the existence of associated ground states for\\nthe odd-order equations is proved. This renders these quantum equations\\nrelevant for physics.'"
      ]
     },
     "execution_count": 11,
     "metadata": {},
     "output_type": "execute_result"
    }
   ],
   "source": [
    "X_test.values[0]"
   ]
  },
  {
   "cell_type": "code",
   "execution_count": 12,
   "metadata": {},
   "outputs": [
    {
     "data": {
      "text/plain": [
       "'Math'"
      ]
     },
     "execution_count": 12,
     "metadata": {},
     "output_type": "execute_result"
    }
   ],
   "source": [
    "y_test.values[0]"
   ]
  },
  {
   "cell_type": "code",
   "execution_count": 13,
   "metadata": {},
   "outputs": [
    {
     "name": "stdout",
     "output_type": "stream",
     "text": [
      "['Math']\n"
     ]
    }
   ],
   "source": [
    "print(clf.predict(count_vect.transform([X_test.values[0]])))"
   ]
  },
  {
   "cell_type": "code",
   "execution_count": 14,
   "metadata": {},
   "outputs": [
    {
     "data": {
      "text/plain": [
       "\"The history of the Magellanic Clouds is investigated using N-body\\nhydrodynamic simulations where the initial conditions are set by a genetic\\nalgorithm. This technique allows us to identify possible orbits for the\\nMagellanic Clouds around the Milky Way, by directly comparing the simulations\\nwith observational constraints. We explore the parameter space of the\\ninteraction between the Magellanic Clouds and the Milky Way, considering as\\nfree parameters the proper motions of the Magellanic Clouds, the virial mass\\nand the concentration parameter ($c$) of the Galactic dark matter halo. The\\nbest orbital scenarios presented here are considered with two different sets of\\nparameters for the Milky Way disc and bulge components. The total circular\\nvelocity at the Sun's position ($\\\\rm{R_{\\\\odot}}=8.5\\\\,\\\\rm {kpc}$) is directly\\ncalculated from the rotation curve of the corresponding Galactic mass model.\\nOur analysis suggests that the Magellanic Clouds have orbited inside the virial\\nradius of the Milky Way for at least $3\\\\,\\\\rm{Gyr}$, even for low mass haloes.\\nHowever, this is possible only with high values for the concentration parameter\\n($c\\\\ge20$). In both orbital models presented here, the mutual interaction\\nbetween the Magellanic Clouds is able to reproduce the observed features of the\\nMagellanic System.\""
      ]
     },
     "execution_count": 14,
     "metadata": {},
     "output_type": "execute_result"
    }
   ],
   "source": [
    "X_test.values[1]"
   ]
  },
  {
   "cell_type": "code",
   "execution_count": 15,
   "metadata": {},
   "outputs": [
    {
     "data": {
      "text/plain": [
       "'History'"
      ]
     },
     "execution_count": 15,
     "metadata": {},
     "output_type": "execute_result"
    }
   ],
   "source": [
    "y_test.values[1]"
   ]
  },
  {
   "cell_type": "code",
   "execution_count": 16,
   "metadata": {},
   "outputs": [
    {
     "name": "stdout",
     "output_type": "stream",
     "text": [
      "['History']\n"
     ]
    }
   ],
   "source": [
    "print(clf.predict(count_vect.transform([X_test.values[1]])))"
   ]
  },
  {
   "cell_type": "markdown",
   "metadata": {},
   "source": [
    "## Compare multiple algorithms"
   ]
  },
  {
   "cell_type": "code",
   "execution_count": 17,
   "metadata": {},
   "outputs": [],
   "source": [
    "# Select a number of classifiers and use cross validation to select the best one\n",
    "from sklearn.linear_model import LogisticRegression\n",
    "from sklearn.svm import LinearSVC\n",
    "from sklearn.model_selection import cross_val_score\n",
    "from sklearn.naive_bayes import BernoulliNB\n",
    "\n",
    "classifiers = [\n",
    "    BernoulliNB(),\n",
    "    LinearSVC(),\n",
    "    MultinomialNB(),\n",
    "    LogisticRegression(random_state=0),\n",
    "]\n",
    "crossVal = 5\n",
    "crossVal_df = pd.DataFrame(index=range(crossVal * len(classifiers)))\n",
    "values = []\n",
    "for classifier in classifiers:\n",
    "    classifier_name = classifier.__class__.__name__\n",
    "    accuracies = cross_val_score(classifier, features, labels, scoring='accuracy', cv=crossVal)\n",
    "    for fold_indx, accuracy in enumerate(accuracies):\n",
    "        values.append((classifier_name, fold_indx, accuracy))\n",
    "\n",
    "crossVal_df = pd.DataFrame(values, columns=['classifier_name', 'fold_indx', 'accuracy'])\n"
   ]
  },
  {
   "cell_type": "code",
   "execution_count": 18,
   "metadata": {},
   "outputs": [
    {
     "data": {
      "image/png": "[encoded data removed]",
      "text/plain": [
       "<Figure size 432x288 with 1 Axes>"
      ]
     },
     "metadata": {},
     "output_type": "display_data"
    }
   ],
   "source": [
    "# Plot the classifiers accuracy\n",
    "import seaborn as sns\n",
    "\n",
    "sns.boxplot(x='classifier_name', y='accuracy', data=crossVal_df)\n",
    "sns.stripplot(x='classifier_name', y='accuracy', data=crossVal_df, \n",
    "              size=12, jitter=True, edgecolor=\"gray\", linewidth=2)\n",
    "plt.show()"
   ]
  },
  {
   "cell_type": "code",
   "execution_count": 19,
   "metadata": {},
   "outputs": [
    {
     "name": "stdout",
     "output_type": "stream",
     "text": [
      "classifier_name\n",
      "BernoulliNB           0.750996\n",
      "LinearSVC             0.850376\n",
      "LogisticRegression    0.853032\n",
      "MultinomialNB         0.773528\n",
      "Name: accuracy, dtype: float64\n"
     ]
    }
   ],
   "source": [
    "# Selecte the best classifier\n",
    "model_classif_mean = crossVal_df.groupby('classifier_name').accuracy.mean()\n",
    "print(model_classif_mean)\n",
    "best_classif_name = model_classif_mean[model_classif_mean == model_classif_mean.max()].index[0]\n",
    "for classifier in classifiers:\n",
    "    if classifier.__class__.__name__ == best_classif_name:\n",
    "        selected_classifier = classifier"
   ]
  },
  {
   "cell_type": "code",
   "execution_count": 20,
   "metadata": {},
   "outputs": [
    {
     "data": {
      "text/plain": [
       "LogisticRegression(C=1.0, class_weight=None, dual=False, fit_intercept=True,\n",
       "          intercept_scaling=1, max_iter=100, multi_class='ovr', n_jobs=1,\n",
       "          penalty='l2', random_state=0, solver='liblinear', tol=0.0001,\n",
       "          verbose=0, warm_start=False)"
      ]
     },
     "execution_count": 20,
     "metadata": {},
     "output_type": "execute_result"
    }
   ],
   "source": [
    "selected_classifier"
   ]
  },
  {
   "cell_type": "code",
   "execution_count": 21,
   "metadata": {},
   "outputs": [],
   "source": [
    "# Train the selected classifier and plot the actual vs predicted results\n",
    "X_train, X_test, y_train, y_test, indices_train, indices_test = train_test_split(features, labels, all_df.index, test_size=0.1, random_state=0)\n",
    "\n",
    "selected_classifier.fit(X_train, y_train)\n",
    "y_pred = selected_classifier.predict(X_test)\n",
    "\n",
    "#selected_classifier.fit(X_train_tfidf, y_train)\n",
    "#y_pred = selected_classifier.predict(count_vect.transform(X_test.values))\n"
   ]
  },
  {
   "cell_type": "code",
   "execution_count": 22,
   "metadata": {},
   "outputs": [
    {
     "data": {
      "image/png": "[encoded data removed]",
      "text/plain": [
       "<Figure size 720x576 with 2 Axes>"
      ]
     },
     "metadata": {},
     "output_type": "display_data"
    }
   ],
   "source": [
    "# Plot a confusion matrix for visualization\n",
    "from sklearn.metrics import confusion_matrix\n",
    "conf_mat = confusion_matrix(y_test, y_pred, labels = [0,1,2,3,4])\n",
    "\n",
    "fig, ax = plt.subplots(figsize=(10,8))\n",
    "sns.heatmap(conf_mat, cmap=\"YlGnBu\", annot=True, fmt='d',\n",
    "            xticklabels=['Physics', 'Math', 'Chemistry', 'History', 'Biology'], yticklabels=['Physics','Math', 'Chemistry', 'History', 'Biology'])\n",
    "plt.ylabel('Actual')\n",
    "plt.xlabel('Predicted')\n",
    "plt.show()"
   ]
  },
  {
   "cell_type": "markdown",
   "metadata": {},
   "source": [
    "## Create and classify abstracts"
   ]
  },
  {
   "cell_type": "code",
   "execution_count": 23,
   "metadata": {},
   "outputs": [],
   "source": [
    "# Download 50 abstract files per class (physics, math, chemistry, history, biology) and save them in a new folder in the current working directory. \n",
    "path = create_files()"
   ]
  },
  {
   "cell_type": "code",
   "execution_count": 24,
   "metadata": {},
   "outputs": [
    {
     "data": {
      "text/plain": [
       "500"
      ]
     },
     "execution_count": 24,
     "metadata": {},
     "output_type": "execute_result"
    }
   ],
   "source": [
    "len(os.listdir('Multi_abstracts_files/')) # Downloaded files (100 per class)"
   ]
  },
  {
   "cell_type": "code",
   "execution_count": 25,
   "metadata": {},
   "outputs": [],
   "source": [
    "# Classify the downloaded abstracts\n",
    "classify_abstract(path, selected_classifier, tfidf)"
   ]
  },
  {
   "cell_type": "code",
   "execution_count": 26,
   "metadata": {},
   "outputs": [
    {
     "name": "stdout",
     "output_type": "stream",
     "text": [
      " Volume in drive C is Windows\n",
      " Volume Serial Number is 7A3C-D3D2\n",
      "\n",
      " Directory of C:\\Users\\318310\\Desktop\\Data Incubator\\New_notebook\\Data-projects-master\\Multi_abstracts_files\n",
      "\n",
      "08/06/2018  08:28 PM    <DIR>          .\n",
      "08/06/2018  08:28 PM    <DIR>          ..\n",
      "08/06/2018  08:28 PM    <DIR>          biology_abstracts\n",
      "08/06/2018  08:28 PM    <DIR>          chemistry_abstracts\n",
      "08/06/2018  08:28 PM    <DIR>          history_abstracts\n",
      "08/06/2018  08:28 PM    <DIR>          math_abstracts\n",
      "08/06/2018  08:28 PM    <DIR>          physics_abstracts\n",
      "               0 File(s)              0 bytes\n",
      "               7 Dir(s)  306,572,828,672 bytes free\n"
     ]
    }
   ],
   "source": [
    "ls Multi_abstracts_files"
   ]
  },
  {
   "cell_type": "code",
   "execution_count": 27,
   "metadata": {},
   "outputs": [
    {
     "name": "stdout",
     "output_type": "stream",
     "text": [
      "Classified physics abstracts: 84\n",
      "Classified math abstracts: 107\n",
      "Classified chemistry abstracts: 95\n",
      "Classified history abstracts: 106\n",
      "Classified biology abstracts: 108\n"
     ]
    }
   ],
   "source": [
    "# Check the length of each directory (we can get an ideao of how the classification process went)\n",
    "print('Classified physics abstracts:', len(os.listdir('Multi_abstracts_files/physics_abstracts/')))\n",
    "print('Classified math abstracts:', len(os.listdir('Multi_abstracts_files/math_abstracts/')))\n",
    "print('Classified chemistry abstracts:', len(os.listdir('Multi_abstracts_files/chemistry_abstracts/')))\n",
    "print('Classified history abstracts:', len(os.listdir('Multi_abstracts_files/history_abstracts/')))\n",
    "print('Classified biology abstracts:', len(os.listdir('Multi_abstracts_files/biology_abstracts/')))"
   ]
  }
 ],
 "metadata": {
  "anaconda-cloud": {},
  "kernelspec": {
   "display_name": "Python 3",
   "language": "python",
   "name": "python3"
  },
  "language_info": {
   "codemirror_mode": {
    "name": "ipython",
    "version": 3
   },
   "file_extension": ".py",
   "mimetype": "text/x-python",
   "name": "python",
   "nbconvert_exporter": "python",
   "pygments_lexer": "ipython3",
   "version": "3.6.5"
  }
 },
 "nbformat": 4,
 "nbformat_minor": 2
}
