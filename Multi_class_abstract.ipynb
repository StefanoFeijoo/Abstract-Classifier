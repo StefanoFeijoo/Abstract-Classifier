{
 "cells": [
  {
   "cell_type": "markdown",
   "metadata": {},
   "source": [
    "# Multi abstract classifier"
   ]
  },
  {
   "cell_type": "code",
   "execution_count": 1,
   "metadata": {},
   "outputs": [],
   "source": [
    "%matplotlib inline\n",
    "\n",
    "import matplotlib.pyplot as plt\n",
    "import urllib\n",
    "import feedparser\n",
    "import random\n",
    "import os\n",
    "import time\n",
    "import pandas as pd"
   ]
  },
  {
   "cell_type": "markdown",
   "metadata": {
    "collapsed": true
   },
   "source": [
    "## Functions"
   ]
  },
  {
   "cell_type": "code",
   "execution_count": 2,
   "metadata": {},
   "outputs": [],
   "source": [
    "def search_abstracts(search_query, start, max_results):\n",
    "    ''' Access the Arxiv API and return a collection of papers.\n",
    "        \n",
    "        Arguments:\n",
    "        \n",
    "        search_query -- paper topic\n",
    "        start -- the starting point of papers to be selected\n",
    "        max_results -- max number of papers to be returned\n",
    "        \n",
    "        --------        \n",
    "        return:\n",
    "        \n",
    "        feed -- a collection of papers with a variety of information\n",
    "        \n",
    "    '''\n",
    "    # calling the api: http://export.arxiv.org/api/{method_name}?{parameters}\n",
    "    base_url = 'https://export.arxiv.org/api/query?';\n",
    "\n",
    "    query = 'search_query=%s&start=%i&max_results=%i' % (search_query,\n",
    "                                                     start,\n",
    "                                                     max_results)\n",
    "\n",
    "    feedparser._FeedParserMixin.namespaces['http://a9.com/-/spec/opensearch/1.1/'] = 'opensearch'\n",
    "    feedparser._FeedParserMixin.namespaces['http://arxiv.org/schemas/atom'] = 'arxiv'\n",
    "\n",
    "    # perform a GET request using the base_url and query\n",
    "    response = urllib.request.urlopen(base_url+query).read()\n",
    "    feed = feedparser.parse(response)\n",
    "    return feed"
   ]
  },
  {
   "cell_type": "code",
   "execution_count": 49,
   "metadata": {},
   "outputs": [],
   "source": [
    "def create_files():\n",
    "    ''' Create a folder on the current working directory containing a list of abstracts from multiple classes'''\n",
    "    \n",
    "    # Search for a set of new abstracts (not used for training or testing)\n",
    "    physics_feed = search_abstracts('all:physics', start = 3000, max_results = 100)\n",
    "    math_feed = search_abstracts('all:math', start = 3000, max_results = 100)\n",
    "    chem_feed = search_abstracts('all:chemistry', start = 3000, max_results = 100)\n",
    "    hist_feed = search_abstracts('all:history', start = 3000, max_results= 100)\n",
    "    bio_feed = search_abstracts('all:biology', start = 3000, max_results= 100)\n",
    "\n",
    "    physics_abstracts = [entry.summary for entry in physics_feed.entries]\n",
    "    math_abstracts = [entry.summary for entry in math_feed.entries]\n",
    "    chem_abstracts = [entry.summary for entry in chem_feed.entries]\n",
    "    hist_abstracts = [entry.summary for entry in hist_feed.entries]\n",
    "    bio_abstracts = [entry.summary for entry in bio_feed.entries]\n",
    "\n",
    "    all_abst = physics_abstracts + math_abstracts + chem_abstracts + hist_abstracts + bio_abstracts\n",
    "\n",
    "    random.shuffle(all_abst)\n",
    "\n",
    "    # get current directory and create new folder\n",
    "    current_dir = os.getcwd()\n",
    "    new_folder_path = current_dir+os.sep+'Multi_abstracts_files'\n",
    "    try:\n",
    "        os.mkdir(new_folder_path)\n",
    "    except FileExistsError:\n",
    "        pass\n",
    "    \n",
    "    # Save all the abstracts to this new directory\n",
    "    for abstr in range(len(all_abst)):\n",
    "        name = 'file'+'_'+str(abstr)+'.txt'\n",
    "        with open(new_folder_path+os.sep+name, 'w') as f:\n",
    "            f.write(all_abst[abstr])\n",
    "    return new_folder_path"
   ]
  },
  {
   "cell_type": "code",
   "execution_count": 4,
   "metadata": {},
   "outputs": [],
   "source": [
    "def classify_abstract(path_to_files, classifier, Tfidf):\n",
    "    ''' Use the trained classifier to correctly label the downloaded abstracts after using create_files(). \n",
    "        Create folders containing each type of abstract.\n",
    "        \n",
    "        Argumenst:\n",
    "        \n",
    "        path_to_files -- path to the created files after using create_files()\n",
    "        classifier -- trained classisfier\n",
    "        Tfidf -- TfidfVectorizer() object\n",
    "        \n",
    "    '''\n",
    "    \n",
    "    for file in os.listdir(path_to_files):\n",
    "        with open(path_to_files+os.sep+file, 'r') as f:\n",
    "            \n",
    "            trans = Tfidf.transform([f.read()]).toarray()\n",
    "            \n",
    "            abstr_class = classifier.predict(trans)\n",
    "      \n",
    "            if abstr_class == 0:\n",
    "                abstr_class = 'physics'\n",
    "            if abstr_class == 1:\n",
    "                abstr_class = 'math'\n",
    "            if abstr_class == 2:\n",
    "                abstr_class = 'chemistry'\n",
    "            if abstr_class == 3:\n",
    "                abstr_class = 'history'\n",
    "            if abstr_class == 4:\n",
    "                abstr_class = 'biology'\n",
    "                \n",
    "            abstr_class_path = path_to_files+os.sep+abstr_class+'_abstracts'\n",
    "            \n",
    "            try:\n",
    "                os.mkdir(abstr_class_path)\n",
    "            except FileExistsError:\n",
    "                pass\n",
    "        os.rename(f.name, abstr_class_path+os.sep+abstr_class+'_'+file)"
   ]
  },
  {
   "cell_type": "markdown",
   "metadata": {},
   "source": [
    "## Create dataset"
   ]
  },
  {
   "cell_type": "code",
   "execution_count": 5,
   "metadata": {},
   "outputs": [
    {
     "name": "stdout",
     "output_type": "stream",
     "text": [
      "time spent: 511.2986660003662\n"
     ]
    }
   ],
   "source": [
    "st = time.time()\n",
    "# Search for physics, math, chemistry papers\n",
    "physics_feed = search_abstracts('all:physics', start = 0, max_results = 5000)\n",
    "math_feed = search_abstracts('all:math', start = 0, max_results = 5000)\n",
    "chem_feed = search_abstracts('all:chemistry', start = 0, max_results= 5000)\n",
    "hist_feed = search_abstracts('all:history', start = 0, max_results= 5000)\n",
    "bio_feed = search_abstracts('all:biology', start = 0, max_results= 5000)\n",
    "end = time.time()\n",
    "print('time spent:',end-st)"
   ]
  },
  {
   "cell_type": "code",
   "execution_count": 6,
   "metadata": {},
   "outputs": [],
   "source": [
    "# Create dictionaries for each topic\n",
    "physics_abstracts = { 'Types': ['Physics' for _ in range(len(physics_feed.entries))],\n",
    "                     'Labels': [ 0 for _ in range(len(physics_feed.entries))], \n",
    "                    'Abstracts': [entry.summary for entry in physics_feed.entries]}\n",
    "\n",
    "math_abstracts = { 'Types': ['Math' for _ in range(len(math_feed.entries))],\n",
    "                    'Labels': [ 1 for _ in range(len(math_feed.entries))], \n",
    "                    'Abstracts': [entry.summary for entry in math_feed.entries]}\n",
    "\n",
    "chem_abstracts = { 'Types': ['Chemistry' for _ in range(len(chem_feed.entries))],\n",
    "                'Labels': [ 2 for _ in range(len(chem_feed.entries))], \n",
    "                    'Abstracts': [entry.summary for entry in chem_feed.entries]}\n",
    "\n",
    "hist_abstracts = { 'Types': ['History' for _ in range(len(hist_feed.entries))],\n",
    "                'Labels': [ 3 for _ in range(len(hist_feed.entries))], \n",
    "                    'Abstracts': [entry.summary for entry in hist_feed.entries]}\n",
    "\n",
    "bio_abstracts = { 'Types': ['biology' for _ in range(len(bio_feed.entries))],\n",
    "                'Labels': [ 4 for _ in range(len(bio_feed.entries))], \n",
    "                    'Abstracts': [entry.summary for entry in bio_feed.entries]}"
   ]
  },
  {
   "cell_type": "code",
   "execution_count": 7,
   "metadata": {},
   "outputs": [],
   "source": [
    "# Place all topics in panda dataframe\n",
    "physics_df = pd.DataFrame(physics_abstracts)\n",
    "math_df = pd.DataFrame(math_abstracts)\n",
    "chem_df = pd.DataFrame(chem_abstracts)\n",
    "hist_df = pd.DataFrame(hist_abstracts)\n",
    "bio_df = pd.DataFrame(bio_abstracts)\n",
    "\n",
    "frames = [physics_df, math_df, chem_df, hist_df, bio_df]\n",
    "all_df = pd.concat(frames)\n",
    "all_df = all_df.sample(frac =1).reset_index(drop = True)"
   ]
  },
  {
   "cell_type": "markdown",
   "metadata": {},
   "source": [
    "## Create features"
   ]
  },
  {
   "cell_type": "code",
   "execution_count": 8,
   "metadata": {},
   "outputs": [],
   "source": [
    "# Used to obtain a Term-frequency, Inverser Document frequency matrix of features from raw documents  \n",
    "\n",
    "from sklearn.feature_extraction.text import TfidfVectorizer\n",
    "tfidf = TfidfVectorizer(sublinear_tf = True, lowercase = True, min_df = 5, norm = 'l2', encoding = 'latin-1', \n",
    "                       ngram_range = (1,2), stop_words = 'english')\n",
    "features = tfidf.fit_transform(all_df.Abstracts).toarray()\n",
    "labels = all_df.Labels"
   ]
  },
  {
   "cell_type": "code",
   "execution_count": 9,
   "metadata": {},
   "outputs": [
    {
     "name": "stdout",
     "output_type": "stream",
     "text": [
      "Area: Physics\n",
      "Most correlated unigrams: lhc, physical, physics\n",
      "Most correlated bigrams: particle physics, standard model, new physics\n",
      "********************\n",
      "Area: Math\n",
      "Most correlated unigrams: manifolds, prove, math\n",
      "Most correlated bigrams: amer math, math soc, math phys\n",
      "********************\n",
      "Area: Chemistry\n",
      "Most correlated unigrams: molecular, chemical, chemistry\n",
      "Most correlated bigrams: density functional, gas phase, quantum chemistry\n",
      "********************\n",
      "Area: History\n",
      "Most correlated unigrams: galaxies, histories, history\n",
      "Most correlated bigrams: formation histories, formation history, star formation\n",
      "********************\n",
      "Area: biology\n",
      "Most correlated unigrams: networks, biological, biology\n",
      "Most correlated bigrams: gene expression, computational biology, systems biology\n",
      "********************\n"
     ]
    }
   ],
   "source": [
    "# Use chi2 score to select the features with the highest values\n",
    "# find terms that are most correlated to each area\n",
    "\n",
    "from sklearn.feature_selection import chi2\n",
    "import numpy as np\n",
    "N = 3\n",
    "for i in range(5):\n",
    "    features_chi2 = chi2(features, labels == i)\n",
    "    chi2_indices = np.argsort(features_chi2[0])\n",
    "    feature_names = np.array(tfidf.get_feature_names())[chi2_indices]\n",
    "    unigrams = [v for v in feature_names if len(v.split(' ')) == 1]\n",
    "    bigrams = [v for v in feature_names if len(v.split(' ')) == 2]\n",
    "    print(\"Area:\", all_df.Types[all_df.Labels == i].values[0])\n",
    "    print(\"Most correlated unigrams:\", ', '.join(unigrams[-N:]))\n",
    "    print(\"Most correlated bigrams:\", ', '.join(bigrams[-N:]))\n",
    "    print('*'*20)"
   ]
  },
  {
   "cell_type": "markdown",
   "metadata": {},
   "source": [
    "## Test first learning algorithm"
   ]
  },
  {
   "cell_type": "code",
   "execution_count": 10,
   "metadata": {},
   "outputs": [],
   "source": [
    "#Split the data into training and test data\n",
    "from sklearn.model_selection import train_test_split\n",
    "\n",
    "# Convert a collection of text documents to a matrix of token counts\n",
    "from sklearn.feature_extraction.text import CountVectorizer\n",
    "\n",
    "# Transform a count matrix to a normalized tf or tf-idf\n",
    "from sklearn.feature_extraction.text import TfidfTransformer\n",
    "\n",
    "# Test MultinamialNB algorithm\n",
    "from sklearn.naive_bayes import MultinomialNB\n",
    "\n",
    "X_train, X_test, y_train, y_test = train_test_split(all_df['Abstracts'], all_df['Types'],test_size= 0.1, random_state = 0)\n",
    "\n",
    "# Use CountVectorizer followed by TfidfTransformer\n",
    "count_vect = CountVectorizer(lowercase = True, stop_words ='english', min_df = 5)\n",
    "X_train_counts = count_vect.fit_transform(X_train)\n",
    "tfidf_transformer = TfidfTransformer()\n",
    "X_train_tfidf = tfidf_transformer.fit_transform(X_train_counts)\n",
    "\n",
    "# Apply model\n",
    "clf = MultinomialNB().fit(X_train_tfidf, y_train)\n"
   ]
  },
  {
   "cell_type": "code",
   "execution_count": 11,
   "metadata": {},
   "outputs": [
    {
     "data": {
      "text/plain": [
       "'In this paper we prove the product formula for the c-function of\\nnon-compactly causal symmetric spaces.'"
      ]
     },
     "execution_count": 11,
     "metadata": {},
     "output_type": "execute_result"
    }
   ],
   "source": [
    "X_test.values[0]"
   ]
  },
  {
   "cell_type": "code",
   "execution_count": 12,
   "metadata": {},
   "outputs": [
    {
     "data": {
      "text/plain": [
       "'Math'"
      ]
     },
     "execution_count": 12,
     "metadata": {},
     "output_type": "execute_result"
    }
   ],
   "source": [
    "y_test.values[0]"
   ]
  },
  {
   "cell_type": "code",
   "execution_count": 13,
   "metadata": {},
   "outputs": [
    {
     "name": "stdout",
     "output_type": "stream",
     "text": [
      "['Math']\n"
     ]
    }
   ],
   "source": [
    "print(clf.predict(count_vect.transform([X_test.values[0]])))"
   ]
  },
  {
   "cell_type": "code",
   "execution_count": 14,
   "metadata": {},
   "outputs": [
    {
     "data": {
      "text/plain": [
       "'A redesigned starting point for covariant \\\\phi^4_n, n\\\\ge 4, models is\\nsuggested that takes the form of an alternative lattice action and which may\\nhave the virtue of leading to a nontrivial quantum field theory in the\\ncontinuum limit. The lack of conventional scattering for such theories is\\nunderstood through an interchange of limits.'"
      ]
     },
     "execution_count": 14,
     "metadata": {},
     "output_type": "execute_result"
    }
   ],
   "source": [
    "X_test.values[1]"
   ]
  },
  {
   "cell_type": "code",
   "execution_count": 15,
   "metadata": {},
   "outputs": [
    {
     "data": {
      "text/plain": [
       "'Physics'"
      ]
     },
     "execution_count": 15,
     "metadata": {},
     "output_type": "execute_result"
    }
   ],
   "source": [
    "y_test.values[1]"
   ]
  },
  {
   "cell_type": "code",
   "execution_count": 16,
   "metadata": {},
   "outputs": [
    {
     "name": "stdout",
     "output_type": "stream",
     "text": [
      "['Physics']\n"
     ]
    }
   ],
   "source": [
    "print(clf.predict(count_vect.transform([X_test.values[1]])))"
   ]
  },
  {
   "cell_type": "markdown",
   "metadata": {},
   "source": [
    "## Compare multiple algorithms"
   ]
  },
  {
   "cell_type": "code",
   "execution_count": 17,
   "metadata": {},
   "outputs": [],
   "source": [
    "# Select a number of classifiers and use cross validation to select the best one\n",
    "from sklearn.linear_model import LogisticRegression, SGDClassifier\n",
    "from sklearn.svm import LinearSVC\n",
    "from sklearn.model_selection import cross_val_score\n",
    "from sklearn.naive_bayes import BernoulliNB, GaussianNB\n",
    "\n",
    "classifiers = [\n",
    "    BernoulliNB(),\n",
    "    LinearSVC(),\n",
    "    MultinomialNB(),\n",
    "    LogisticRegression(random_state=0),\n",
    "]\n",
    "crossVal = 5\n",
    "crossVal_df = pd.DataFrame(index=range(crossVal * len(classifiers)))\n",
    "values = []\n",
    "for classifier in classifiers:\n",
    "    classifier_name = classifier.__class__.__name__\n",
    "    accuracies = cross_val_score(classifier, features, labels, scoring='accuracy', cv=crossVal)\n",
    "    for fold_indx, accuracy in enumerate(accuracies):\n",
    "        values.append((classifier_name, fold_indx, accuracy))\n",
    "\n",
    "crossVal_df = pd.DataFrame(values, columns=['classifier_name', 'fold_indx', 'accuracy'])\n"
   ]
  },
  {
   "cell_type": "code",
   "execution_count": 18,
   "metadata": {},
   "outputs": [
    {
     "data": {
      "image/png": "[encoded data removed]",
      "text/plain": [
       "<Figure size 432x288 with 1 Axes>"
      ]
     },
     "metadata": {},
     "output_type": "display_data"
    }
   ],
   "source": [
    "# Plot the classifiers accuracy\n",
    "import seaborn as sns\n",
    "\n",
    "sns.boxplot(x='classifier_name', y='accuracy', data=crossVal_df)\n",
    "sns.stripplot(x='classifier_name', y='accuracy', data=crossVal_df, \n",
    "              size=12, jitter=True, edgecolor=\"gray\", linewidth=2)\n",
    "plt.show()"
   ]
  },
  {
   "cell_type": "code",
   "execution_count": 19,
   "metadata": {},
   "outputs": [
    {
     "name": "stdout",
     "output_type": "stream",
     "text": [
      "classifier_name\n",
      "BernoulliNB           0.73928\n",
      "LinearSVC             0.83568\n",
      "LogisticRegression    0.84404\n",
      "MultinomialNB         0.77348\n",
      "Name: accuracy, dtype: float64\n"
     ]
    }
   ],
   "source": [
    "# Selecte the best classifier\n",
    "model_classif_mean = crossVal_df.groupby('classifier_name').accuracy.mean()\n",
    "print(model_classif_mean)\n",
    "best_classif_name = model_classif_mean[model_classif_mean == model_classif_mean.max()].index[0]\n",
    "for classifier in classifiers:\n",
    "    if classifier.__class__.__name__ == best_classif_name:\n",
    "        selected_classifier = classifier"
   ]
  },
  {
   "cell_type": "code",
   "execution_count": 20,
   "metadata": {},
   "outputs": [
    {
     "data": {
      "text/plain": [
       "LogisticRegression(C=1.0, class_weight=None, dual=False, fit_intercept=True,\n",
       "          intercept_scaling=1, max_iter=100, multi_class='ovr', n_jobs=1,\n",
       "          penalty='l2', random_state=0, solver='liblinear', tol=0.0001,\n",
       "          verbose=0, warm_start=False)"
      ]
     },
     "execution_count": 20,
     "metadata": {},
     "output_type": "execute_result"
    }
   ],
   "source": [
    "selected_classifier"
   ]
  },
  {
   "cell_type": "code",
   "execution_count": 21,
   "metadata": {},
   "outputs": [],
   "source": [
    "# Train the selected classifier and plot the actual vs predicted results\n",
    "X_train, X_test, y_train, y_test, indices_train, indices_test = train_test_split(features, labels, all_df.index, test_size=0.1, random_state=0)\n",
    "\n",
    "selected_classifier.fit(X_train, y_train)\n",
    "y_pred = selected_classifier.predict(X_test)\n",
    "\n",
    "#selected_classifier.fit(X_train_tfidf, y_train)\n",
    "#y_pred = selected_classifier.predict(count_vect.transform(X_test.values))\n"
   ]
  },
  {
   "cell_type": "code",
   "execution_count": 38,
   "metadata": {},
   "outputs": [
    {
     "data": {
      "image/png": "[encoded data removed]",
      "text/plain": [
       "<Figure size 720x576 with 2 Axes>"
      ]
     },
     "metadata": {},
     "output_type": "display_data"
    }
   ],
   "source": [
    "# Plot a confusion matrix for visualization\n",
    "from sklearn.metrics import confusion_matrix\n",
    "conf_mat = confusion_matrix(y_test, y_pred, labels = [0,1,2,3,4])\n",
    "\n",
    "fig, ax = plt.subplots(figsize=(10,8))\n",
    "sns.heatmap(conf_mat, cmap=\"YlGnBu\", annot=True, fmt='d',\n",
    "            xticklabels=['Physics', 'Math', 'Chemistry', 'History', 'Biology'], yticklabels=['Physics','Math', 'Chemistry', 'History', 'Biology'])\n",
    "plt.ylabel('Actual')\n",
    "plt.xlabel('Predicted')\n",
    "plt.show()"
   ]
  },
  {
   "cell_type": "markdown",
   "metadata": {},
   "source": [
    "## Create and classify abstracts"
   ]
  },
  {
   "cell_type": "code",
   "execution_count": 50,
   "metadata": {},
   "outputs": [],
   "source": [
    "# Download 50 abstract files per class (physics, math, chemistry, history, biology) and save them in a new folder in the current working directory. \n",
    "path = create_files()"
   ]
  },
  {
   "cell_type": "code",
   "execution_count": 51,
   "metadata": {},
   "outputs": [
    {
     "name": "stdout",
     "output_type": "stream",
     "text": [
      " Volume in drive C is Windows\n",
      " Volume Serial Number is 7A3C-D3D2\n",
      "\n",
      " Directory of C:\\Users\\318310\\Desktop\\Data Incubator\\New_notebook\\Data-projects-master\\Multi_abstracts_files\n",
      "\n",
      "08/06/2018  07:47 PM    <DIR>          .\n",
      "08/06/2018  07:47 PM    <DIR>          ..\n",
      "08/06/2018  07:47 PM               588 file_0.txt\n",
      "08/06/2018  07:47 PM               645 file_1.txt\n",
      "08/06/2018  07:47 PM               652 file_10.txt\n",
      "08/06/2018  07:47 PM               883 file_100.txt\n",
      "08/06/2018  07:47 PM               514 file_101.txt\n",
      "08/06/2018  07:47 PM               725 file_102.txt\n",
      "08/06/2018  07:47 PM             1,160 file_103.txt\n",
      "08/06/2018  07:47 PM               983 file_104.txt\n",
      "08/06/2018  07:47 PM               817 file_105.txt\n",
      "08/06/2018  07:47 PM             1,124 file_106.txt\n",
      "08/06/2018  07:47 PM               284 file_107.txt\n",
      "08/06/2018  07:47 PM             1,110 file_108.txt\n",
      "08/06/2018  07:47 PM             1,136 file_109.txt\n",
      "08/06/2018  07:47 PM               824 file_11.txt\n",
      "08/06/2018  07:47 PM               644 file_110.txt\n",
      "08/06/2018  07:47 PM               773 file_111.txt\n",
      "08/06/2018  07:47 PM               984 file_112.txt\n",
      "08/06/2018  07:47 PM               881 file_113.txt\n",
      "08/06/2018  07:47 PM               848 file_114.txt\n",
      "08/06/2018  07:47 PM               882 file_115.txt\n",
      "08/06/2018  07:47 PM             1,250 file_116.txt\n",
      "08/06/2018  07:47 PM               898 file_117.txt\n",
      "08/06/2018  07:47 PM               611 file_118.txt\n",
      "08/06/2018  07:47 PM             1,224 file_119.txt\n",
      "08/06/2018  07:47 PM               686 file_12.txt\n",
      "08/06/2018  07:47 PM             1,201 file_120.txt\n",
      "08/06/2018  07:47 PM               811 file_121.txt\n",
      "08/06/2018  07:47 PM               957 file_122.txt\n",
      "08/06/2018  07:47 PM               249 file_123.txt\n",
      "08/06/2018  07:47 PM               331 file_124.txt\n",
      "08/06/2018  07:47 PM               993 file_125.txt\n",
      "08/06/2018  07:47 PM               966 file_126.txt\n",
      "08/06/2018  07:47 PM               653 file_127.txt\n",
      "08/06/2018  07:47 PM               987 file_128.txt\n",
      "08/06/2018  07:47 PM             1,263 file_129.txt\n",
      "08/06/2018  07:47 PM             1,701 file_13.txt\n",
      "08/06/2018  07:47 PM               823 file_130.txt\n",
      "08/06/2018  07:47 PM             1,191 file_131.txt\n",
      "08/06/2018  07:47 PM               469 file_132.txt\n",
      "08/06/2018  07:47 PM               724 file_133.txt\n",
      "08/06/2018  07:47 PM               741 file_134.txt\n",
      "08/06/2018  07:47 PM             1,054 file_135.txt\n",
      "08/06/2018  07:47 PM               920 file_136.txt\n",
      "08/06/2018  07:47 PM             1,000 file_137.txt\n",
      "08/06/2018  07:47 PM             1,379 file_138.txt\n",
      "08/06/2018  07:47 PM             1,060 file_139.txt\n",
      "08/06/2018  07:47 PM               780 file_14.txt\n",
      "08/06/2018  07:47 PM               691 file_140.txt\n",
      "08/06/2018  07:47 PM               793 file_141.txt\n",
      "08/06/2018  07:47 PM               233 file_142.txt\n",
      "08/06/2018  07:47 PM               880 file_143.txt\n",
      "08/06/2018  07:47 PM             1,004 file_144.txt\n",
      "08/06/2018  07:47 PM               733 file_145.txt\n",
      "08/06/2018  07:47 PM             1,481 file_146.txt\n",
      "08/06/2018  07:47 PM               664 file_147.txt\n",
      "08/06/2018  07:47 PM               457 file_148.txt\n",
      "08/06/2018  07:47 PM               504 file_149.txt\n",
      "08/06/2018  07:47 PM               477 file_15.txt\n",
      "08/06/2018  07:47 PM             1,189 file_150.txt\n",
      "08/06/2018  07:47 PM             1,130 file_151.txt\n",
      "08/06/2018  07:47 PM             1,006 file_152.txt\n",
      "08/06/2018  07:47 PM               332 file_153.txt\n",
      "08/06/2018  07:47 PM             1,045 file_154.txt\n",
      "08/06/2018  07:47 PM             1,023 file_155.txt\n",
      "08/06/2018  07:47 PM             1,503 file_156.txt\n",
      "08/06/2018  07:47 PM               948 file_157.txt\n",
      "08/06/2018  07:47 PM               909 file_158.txt\n",
      "08/06/2018  07:47 PM               892 file_159.txt\n",
      "08/06/2018  07:47 PM               970 file_16.txt\n",
      "08/06/2018  07:47 PM             1,094 file_160.txt\n",
      "08/06/2018  07:47 PM               796 file_161.txt\n",
      "08/06/2018  07:47 PM             1,228 file_162.txt\n",
      "08/06/2018  07:47 PM               689 file_163.txt\n",
      "08/06/2018  07:47 PM               573 file_164.txt\n",
      "08/06/2018  07:47 PM               710 file_165.txt\n",
      "08/06/2018  07:47 PM               646 file_166.txt\n",
      "08/06/2018  07:47 PM             1,120 file_167.txt\n",
      "08/06/2018  07:47 PM               939 file_168.txt\n",
      "08/06/2018  07:47 PM               420 file_169.txt\n",
      "08/06/2018  07:47 PM               553 file_17.txt\n",
      "08/06/2018  07:47 PM               897 file_170.txt\n",
      "08/06/2018  07:47 PM               921 file_171.txt\n",
      "08/06/2018  07:47 PM               942 file_172.txt\n",
      "08/06/2018  07:47 PM             1,083 file_173.txt\n",
      "08/06/2018  07:47 PM               785 file_174.txt\n",
      "08/06/2018  07:47 PM             1,024 file_175.txt\n",
      "08/06/2018  07:47 PM             1,056 file_176.txt\n",
      "08/06/2018  07:47 PM             1,246 file_177.txt\n",
      "08/06/2018  07:47 PM               414 file_178.txt\n",
      "08/06/2018  07:47 PM               975 file_179.txt\n",
      "08/06/2018  07:47 PM               867 file_18.txt\n",
      "08/06/2018  07:47 PM               567 file_180.txt\n",
      "08/06/2018  07:47 PM               799 file_181.txt\n",
      "08/06/2018  07:47 PM               591 file_182.txt\n",
      "08/06/2018  07:47 PM               492 file_183.txt\n",
      "08/06/2018  07:47 PM             1,835 file_184.txt\n",
      "08/06/2018  07:47 PM               952 file_185.txt\n",
      "08/06/2018  07:47 PM             1,012 file_186.txt\n",
      "08/06/2018  07:47 PM               790 file_187.txt\n",
      "08/06/2018  07:47 PM               888 file_188.txt\n",
      "08/06/2018  07:47 PM               914 file_189.txt\n",
      "08/06/2018  07:47 PM               937 file_19.txt\n",
      "08/06/2018  07:47 PM               450 file_190.txt\n",
      "08/06/2018  07:47 PM               983 file_191.txt\n",
      "08/06/2018  07:47 PM             1,218 file_192.txt\n",
      "08/06/2018  07:47 PM             1,017 file_193.txt\n",
      "08/06/2018  07:47 PM             1,395 file_194.txt\n",
      "08/06/2018  07:47 PM               772 file_195.txt\n",
      "08/06/2018  07:47 PM               459 file_196.txt\n",
      "08/06/2018  07:47 PM               812 file_197.txt\n",
      "08/06/2018  07:47 PM             1,274 file_198.txt\n",
      "08/06/2018  07:47 PM               777 file_199.txt\n",
      "08/06/2018  07:47 PM               313 file_2.txt\n",
      "08/06/2018  07:47 PM               993 file_20.txt\n",
      "08/06/2018  07:47 PM             1,147 file_200.txt\n",
      "08/06/2018  07:47 PM               785 file_201.txt\n",
      "08/06/2018  07:47 PM               903 file_202.txt\n",
      "08/06/2018  07:47 PM               713 file_203.txt\n",
      "08/06/2018  07:47 PM               844 file_204.txt\n",
      "08/06/2018  07:47 PM             1,092 file_205.txt\n",
      "08/06/2018  07:47 PM             1,429 file_206.txt\n",
      "08/06/2018  07:47 PM               951 file_207.txt\n",
      "08/06/2018  07:47 PM             1,079 file_208.txt\n",
      "08/06/2018  07:47 PM               547 file_209.txt\n",
      "08/06/2018  07:47 PM               152 file_21.txt\n",
      "08/06/2018  07:47 PM               418 file_210.txt\n",
      "08/06/2018  07:47 PM             1,209 file_211.txt\n",
      "08/06/2018  07:47 PM             1,362 file_212.txt\n",
      "08/06/2018  07:47 PM               549 file_213.txt\n",
      "08/06/2018  07:47 PM               599 file_214.txt\n",
      "08/06/2018  07:47 PM               895 file_215.txt\n",
      "08/06/2018  07:47 PM             1,070 file_216.txt\n",
      "08/06/2018  07:47 PM             1,121 file_217.txt\n",
      "08/06/2018  07:47 PM               477 file_218.txt\n",
      "08/06/2018  07:47 PM               845 file_219.txt\n",
      "08/06/2018  07:47 PM             1,181 file_22.txt\n",
      "08/06/2018  07:47 PM             1,346 file_220.txt\n",
      "08/06/2018  07:47 PM               265 file_221.txt\n",
      "08/06/2018  07:47 PM               769 file_222.txt\n",
      "08/06/2018  07:47 PM             1,420 file_223.txt\n",
      "08/06/2018  07:47 PM               500 file_224.txt\n",
      "08/06/2018  07:47 PM               250 file_225.txt\n",
      "08/06/2018  07:47 PM               547 file_226.txt\n",
      "08/06/2018  07:47 PM               881 file_227.txt\n",
      "08/06/2018  07:47 PM               375 file_228.txt\n",
      "08/06/2018  07:47 PM             1,244 file_229.txt\n",
      "08/06/2018  07:47 PM             1,238 file_23.txt\n",
      "08/06/2018  07:47 PM             1,048 file_230.txt\n",
      "08/06/2018  07:47 PM               723 file_231.txt\n",
      "08/06/2018  07:47 PM               406 file_232.txt\n",
      "08/06/2018  07:47 PM             1,319 file_233.txt\n",
      "08/06/2018  07:47 PM             1,080 file_234.txt\n",
      "08/06/2018  07:47 PM               533 file_235.txt\n",
      "08/06/2018  07:47 PM               792 file_236.txt\n",
      "08/06/2018  07:47 PM               691 file_237.txt\n",
      "08/06/2018  07:47 PM               582 file_238.txt\n",
      "08/06/2018  07:47 PM               860 file_239.txt\n",
      "08/06/2018  07:47 PM               438 file_24.txt\n",
      "08/06/2018  07:47 PM               534 file_240.txt\n",
      "08/06/2018  07:47 PM             1,255 file_241.txt\n",
      "08/06/2018  07:47 PM               496 file_242.txt\n",
      "08/06/2018  07:47 PM             1,086 file_243.txt\n",
      "08/06/2018  07:47 PM             1,155 file_244.txt\n",
      "08/06/2018  07:47 PM             1,519 file_245.txt\n",
      "08/06/2018  07:47 PM               836 file_246.txt\n",
      "08/06/2018  07:47 PM               967 file_247.txt\n",
      "08/06/2018  07:47 PM               905 file_248.txt\n",
      "08/06/2018  07:47 PM               617 file_249.txt\n",
      "08/06/2018  07:47 PM             1,060 file_25.txt\n",
      "08/06/2018  07:47 PM               628 file_250.txt\n",
      "08/06/2018  07:47 PM             1,101 file_251.txt\n",
      "08/06/2018  07:47 PM             1,229 file_252.txt\n",
      "08/06/2018  07:47 PM               457 file_253.txt\n",
      "08/06/2018  07:47 PM             1,022 file_254.txt\n",
      "08/06/2018  07:47 PM               469 file_255.txt\n",
      "08/06/2018  07:47 PM               795 file_256.txt\n",
      "08/06/2018  07:47 PM             1,168 file_257.txt\n",
      "08/06/2018  07:47 PM             1,106 file_258.txt\n",
      "08/06/2018  07:47 PM               939 file_259.txt\n",
      "08/06/2018  07:47 PM             1,213 file_26.txt\n",
      "08/06/2018  07:47 PM               867 file_260.txt\n",
      "08/06/2018  07:47 PM             1,203 file_261.txt\n",
      "08/06/2018  07:47 PM             1,084 file_262.txt\n",
      "08/06/2018  07:47 PM               521 file_263.txt\n",
      "08/06/2018  07:47 PM               838 file_264.txt\n",
      "08/06/2018  07:47 PM             1,037 file_265.txt\n",
      "08/06/2018  07:47 PM               481 file_266.txt\n",
      "08/06/2018  07:47 PM               375 file_267.txt\n",
      "08/06/2018  07:47 PM               303 file_268.txt\n",
      "08/06/2018  07:47 PM               647 file_269.txt\n",
      "08/06/2018  07:47 PM               729 file_27.txt\n",
      "08/06/2018  07:47 PM             1,010 file_270.txt\n",
      "08/06/2018  07:47 PM               532 file_271.txt\n",
      "08/06/2018  07:47 PM               887 file_272.txt\n",
      "08/06/2018  07:47 PM               739 file_273.txt\n",
      "08/06/2018  07:47 PM             1,122 file_274.txt\n",
      "08/06/2018  07:47 PM               692 file_275.txt\n",
      "08/06/2018  07:47 PM             1,145 file_276.txt\n",
      "08/06/2018  07:47 PM               979 file_277.txt\n",
      "08/06/2018  07:47 PM             1,150 file_278.txt\n",
      "08/06/2018  07:47 PM               354 file_279.txt\n",
      "08/06/2018  07:47 PM             1,026 file_28.txt\n",
      "08/06/2018  07:47 PM               591 file_280.txt\n",
      "08/06/2018  07:47 PM               392 file_281.txt\n",
      "08/06/2018  07:47 PM               831 file_282.txt\n",
      "08/06/2018  07:47 PM               682 file_283.txt\n",
      "08/06/2018  07:47 PM               780 file_284.txt\n",
      "08/06/2018  07:47 PM               930 file_285.txt\n",
      "08/06/2018  07:47 PM               660 file_286.txt\n",
      "08/06/2018  07:47 PM               769 file_287.txt\n",
      "08/06/2018  07:47 PM               750 file_288.txt\n",
      "08/06/2018  07:47 PM               902 file_289.txt\n",
      "08/06/2018  07:47 PM               637 file_29.txt\n",
      "08/06/2018  07:47 PM               971 file_290.txt\n",
      "08/06/2018  07:47 PM               448 file_291.txt\n",
      "08/06/2018  07:47 PM               791 file_292.txt\n",
      "08/06/2018  07:47 PM               743 file_293.txt\n",
      "08/06/2018  07:47 PM             1,441 file_294.txt\n",
      "08/06/2018  07:47 PM               698 file_295.txt\n",
      "08/06/2018  07:47 PM               849 file_296.txt\n",
      "08/06/2018  07:47 PM               601 file_297.txt\n",
      "08/06/2018  07:47 PM             1,144 file_298.txt\n",
      "08/06/2018  07:47 PM             1,119 file_299.txt\n",
      "08/06/2018  07:47 PM               706 file_3.txt\n",
      "08/06/2018  07:47 PM             1,286 file_30.txt\n",
      "08/06/2018  07:47 PM             1,101 file_300.txt\n",
      "08/06/2018  07:47 PM               343 file_301.txt\n",
      "08/06/2018  07:47 PM             1,099 file_302.txt\n",
      "08/06/2018  07:47 PM               666 file_303.txt\n",
      "08/06/2018  07:47 PM               502 file_304.txt\n",
      "08/06/2018  07:47 PM             1,498 file_305.txt\n",
      "08/06/2018  07:47 PM               806 file_306.txt\n",
      "08/06/2018  07:47 PM             1,232 file_307.txt\n",
      "08/06/2018  07:47 PM             1,083 file_308.txt\n",
      "08/06/2018  07:47 PM             1,261 file_309.txt\n",
      "08/06/2018  07:47 PM             1,276 file_31.txt\n",
      "08/06/2018  07:47 PM             1,590 file_310.txt\n",
      "08/06/2018  07:47 PM               694 file_311.txt\n",
      "08/06/2018  07:47 PM             1,197 file_312.txt\n",
      "08/06/2018  07:47 PM               780 file_313.txt\n",
      "08/06/2018  07:47 PM               610 file_314.txt\n",
      "08/06/2018  07:47 PM             1,125 file_315.txt\n",
      "08/06/2018  07:47 PM               299 file_316.txt\n",
      "08/06/2018  07:47 PM             1,036 file_317.txt\n",
      "08/06/2018  07:47 PM               873 file_318.txt\n",
      "08/06/2018  07:47 PM             1,010 file_319.txt\n",
      "08/06/2018  07:47 PM             1,124 file_32.txt\n",
      "08/06/2018  07:47 PM             1,057 file_320.txt\n",
      "08/06/2018  07:47 PM               852 file_321.txt\n",
      "08/06/2018  07:47 PM               899 file_322.txt\n",
      "08/06/2018  07:47 PM               667 file_323.txt\n",
      "08/06/2018  07:47 PM               845 file_324.txt\n",
      "08/06/2018  07:47 PM             1,061 file_325.txt\n",
      "08/06/2018  07:47 PM             1,021 file_326.txt\n",
      "08/06/2018  07:47 PM               693 file_327.txt\n",
      "08/06/2018  07:47 PM               918 file_328.txt\n",
      "08/06/2018  07:47 PM             1,097 file_329.txt\n",
      "08/06/2018  07:47 PM             1,118 file_33.txt\n",
      "08/06/2018  07:47 PM               832 file_330.txt\n",
      "08/06/2018  07:47 PM               753 file_331.txt\n",
      "08/06/2018  07:47 PM             1,172 file_332.txt\n",
      "08/06/2018  07:47 PM               934 file_333.txt\n",
      "08/06/2018  07:47 PM               755 file_334.txt\n",
      "08/06/2018  07:47 PM               800 file_335.txt\n",
      "08/06/2018  07:47 PM               712 file_336.txt\n",
      "08/06/2018  07:47 PM             1,068 file_337.txt\n",
      "08/06/2018  07:47 PM               974 file_338.txt\n",
      "08/06/2018  07:47 PM               775 file_339.txt\n",
      "08/06/2018  07:47 PM               960 file_34.txt\n",
      "08/06/2018  07:47 PM               815 file_340.txt\n",
      "08/06/2018  07:47 PM               875 file_341.txt\n",
      "08/06/2018  07:47 PM               910 file_342.txt\n",
      "08/06/2018  07:47 PM             1,061 file_343.txt\n",
      "08/06/2018  07:47 PM               918 file_344.txt\n",
      "08/06/2018  07:47 PM               839 file_345.txt\n",
      "08/06/2018  07:47 PM             1,165 file_346.txt\n",
      "08/06/2018  07:47 PM             1,071 file_347.txt\n",
      "08/06/2018  07:47 PM               806 file_348.txt\n",
      "08/06/2018  07:47 PM               482 file_349.txt\n",
      "08/06/2018  07:47 PM             1,062 file_35.txt\n",
      "08/06/2018  07:47 PM               416 file_350.txt\n",
      "08/06/2018  07:47 PM             1,104 file_351.txt\n",
      "08/06/2018  07:47 PM               747 file_352.txt\n",
      "08/06/2018  07:47 PM               708 file_353.txt\n",
      "08/06/2018  07:47 PM             1,274 file_354.txt\n",
      "08/06/2018  07:47 PM               812 file_355.txt\n",
      "08/06/2018  07:47 PM               503 file_356.txt\n",
      "08/06/2018  07:47 PM               943 file_357.txt\n",
      "08/06/2018  07:47 PM             1,163 file_358.txt\n",
      "08/06/2018  07:47 PM             1,472 file_359.txt\n",
      "08/06/2018  07:47 PM             1,100 file_36.txt\n",
      "08/06/2018  07:47 PM               931 file_360.txt\n",
      "08/06/2018  07:47 PM               768 file_361.txt\n",
      "08/06/2018  07:47 PM               871 file_362.txt\n",
      "08/06/2018  07:47 PM               927 file_363.txt\n",
      "08/06/2018  07:47 PM               693 file_364.txt\n",
      "08/06/2018  07:47 PM             1,124 file_365.txt\n",
      "08/06/2018  07:47 PM               953 file_366.txt\n",
      "08/06/2018  07:47 PM               601 file_367.txt\n",
      "08/06/2018  07:47 PM               444 file_368.txt\n",
      "08/06/2018  07:47 PM               596 file_369.txt\n",
      "08/06/2018  07:47 PM             1,264 file_37.txt\n",
      "08/06/2018  07:47 PM             1,272 file_370.txt\n",
      "08/06/2018  07:47 PM               838 file_371.txt\n",
      "08/06/2018  07:47 PM               773 file_372.txt\n",
      "08/06/2018  07:47 PM               575 file_373.txt\n",
      "08/06/2018  07:47 PM               784 file_374.txt\n",
      "08/06/2018  07:47 PM             1,109 file_375.txt\n",
      "08/06/2018  07:47 PM               673 file_376.txt\n",
      "08/06/2018  07:47 PM               801 file_377.txt\n",
      "08/06/2018  07:47 PM             1,062 file_378.txt\n",
      "08/06/2018  07:47 PM             1,069 file_379.txt\n",
      "08/06/2018  07:47 PM               740 file_38.txt\n",
      "08/06/2018  07:47 PM             1,208 file_380.txt\n",
      "08/06/2018  07:47 PM               722 file_381.txt\n",
      "08/06/2018  07:47 PM               924 file_382.txt\n",
      "08/06/2018  07:47 PM             1,022 file_383.txt\n",
      "08/06/2018  07:47 PM               869 file_384.txt\n",
      "08/06/2018  07:47 PM             1,097 file_385.txt\n",
      "08/06/2018  07:47 PM               434 file_386.txt\n",
      "08/06/2018  07:47 PM               928 file_387.txt\n",
      "08/06/2018  07:47 PM               920 file_388.txt\n",
      "08/06/2018  07:47 PM               459 file_389.txt\n",
      "08/06/2018  07:47 PM               400 file_39.txt\n",
      "08/06/2018  07:47 PM             1,238 file_390.txt\n",
      "08/06/2018  07:47 PM             1,046 file_391.txt\n",
      "08/06/2018  07:47 PM             1,238 file_392.txt\n",
      "08/06/2018  07:47 PM             1,473 file_393.txt\n",
      "08/06/2018  07:47 PM             1,169 file_394.txt\n",
      "08/06/2018  07:47 PM               584 file_395.txt\n",
      "08/06/2018  07:47 PM             1,033 file_396.txt\n",
      "08/06/2018  07:47 PM               928 file_397.txt\n",
      "08/06/2018  07:47 PM             1,190 file_398.txt\n",
      "08/06/2018  07:47 PM             1,186 file_399.txt\n",
      "08/06/2018  07:47 PM             1,052 file_4.txt\n",
      "08/06/2018  07:47 PM               190 file_40.txt\n",
      "08/06/2018  07:47 PM             1,150 file_400.txt\n",
      "08/06/2018  07:47 PM             1,098 file_401.txt\n",
      "08/06/2018  07:47 PM               813 file_402.txt\n",
      "08/06/2018  07:47 PM               738 file_403.txt\n",
      "08/06/2018  07:47 PM               751 file_404.txt\n",
      "08/06/2018  07:47 PM               405 file_405.txt\n",
      "08/06/2018  07:47 PM             1,044 file_406.txt\n",
      "08/06/2018  07:47 PM               710 file_407.txt\n",
      "08/06/2018  07:47 PM               495 file_408.txt\n",
      "08/06/2018  07:47 PM             1,038 file_409.txt\n",
      "08/06/2018  07:47 PM             1,025 file_41.txt\n",
      "08/06/2018  07:47 PM               862 file_410.txt\n",
      "08/06/2018  07:47 PM               904 file_411.txt\n",
      "08/06/2018  07:47 PM               634 file_412.txt\n",
      "08/06/2018  07:47 PM               936 file_413.txt\n",
      "08/06/2018  07:47 PM             1,154 file_414.txt\n",
      "08/06/2018  07:47 PM             1,124 file_415.txt\n",
      "08/06/2018  07:47 PM               689 file_416.txt\n",
      "08/06/2018  07:47 PM               875 file_417.txt\n",
      "08/06/2018  07:47 PM               720 file_418.txt\n",
      "08/06/2018  07:47 PM               438 file_419.txt\n",
      "08/06/2018  07:47 PM               934 file_42.txt\n",
      "08/06/2018  07:47 PM               949 file_420.txt\n",
      "08/06/2018  07:47 PM             1,151 file_421.txt\n",
      "08/06/2018  07:47 PM               580 file_422.txt\n",
      "08/06/2018  07:47 PM               943 file_423.txt\n",
      "08/06/2018  07:47 PM               942 file_424.txt\n",
      "08/06/2018  07:47 PM               697 file_425.txt\n",
      "08/06/2018  07:47 PM               843 file_426.txt\n",
      "08/06/2018  07:47 PM             1,225 file_427.txt\n",
      "08/06/2018  07:47 PM             1,081 file_428.txt\n",
      "08/06/2018  07:47 PM             1,163 file_429.txt\n",
      "08/06/2018  07:47 PM             1,140 file_43.txt\n",
      "08/06/2018  07:47 PM               713 file_430.txt\n",
      "08/06/2018  07:47 PM             1,130 file_431.txt\n",
      "08/06/2018  07:47 PM             1,150 file_432.txt\n",
      "08/06/2018  07:47 PM               745 file_433.txt\n",
      "08/06/2018  07:47 PM               413 file_434.txt\n",
      "08/06/2018  07:47 PM             1,046 file_435.txt\n",
      "08/06/2018  07:47 PM               988 file_436.txt\n",
      "08/06/2018  07:47 PM               761 file_437.txt\n",
      "08/06/2018  07:47 PM               792 file_438.txt\n",
      "08/06/2018  07:47 PM             1,066 file_439.txt\n",
      "08/06/2018  07:47 PM               878 file_44.txt\n",
      "08/06/2018  07:47 PM             1,007 file_440.txt\n",
      "08/06/2018  07:47 PM               341 file_441.txt\n",
      "08/06/2018  07:47 PM               625 file_442.txt\n",
      "08/06/2018  07:47 PM               905 file_443.txt\n",
      "08/06/2018  07:47 PM               902 file_444.txt\n",
      "08/06/2018  07:47 PM               654 file_445.txt\n",
      "08/06/2018  07:47 PM             1,237 file_446.txt\n",
      "08/06/2018  07:47 PM               281 file_447.txt\n",
      "08/06/2018  07:47 PM               972 file_448.txt\n",
      "08/06/2018  07:47 PM             1,143 file_449.txt\n",
      "08/06/2018  07:47 PM             1,179 file_45.txt\n",
      "08/06/2018  07:47 PM               898 file_450.txt\n",
      "08/06/2018  07:47 PM               901 file_451.txt\n",
      "08/06/2018  07:47 PM             1,111 file_452.txt\n",
      "08/06/2018  07:47 PM               527 file_453.txt\n",
      "08/06/2018  07:47 PM             1,260 file_454.txt\n",
      "08/06/2018  07:47 PM             1,130 file_455.txt\n",
      "08/06/2018  07:47 PM               492 file_456.txt\n",
      "08/06/2018  07:47 PM             1,088 file_457.txt\n",
      "08/06/2018  07:47 PM               622 file_458.txt\n",
      "08/06/2018  07:47 PM               849 file_459.txt\n",
      "08/06/2018  07:47 PM               785 file_46.txt\n",
      "08/06/2018  07:47 PM               770 file_460.txt\n",
      "08/06/2018  07:47 PM               565 file_461.txt\n",
      "08/06/2018  07:47 PM             1,262 file_462.txt\n",
      "08/06/2018  07:47 PM             1,211 file_463.txt\n",
      "08/06/2018  07:47 PM             1,129 file_464.txt\n",
      "08/06/2018  07:47 PM               991 file_465.txt\n",
      "08/06/2018  07:47 PM               823 file_466.txt\n",
      "08/06/2018  07:47 PM             1,127 file_467.txt\n",
      "08/06/2018  07:47 PM               829 file_468.txt\n",
      "08/06/2018  07:47 PM               862 file_469.txt\n",
      "08/06/2018  07:47 PM               540 file_47.txt\n",
      "08/06/2018  07:47 PM             1,273 file_470.txt\n",
      "08/06/2018  07:47 PM               909 file_471.txt\n",
      "08/06/2018  07:47 PM               927 file_472.txt\n",
      "08/06/2018  07:47 PM               795 file_473.txt\n",
      "08/06/2018  07:47 PM               881 file_474.txt\n",
      "08/06/2018  07:47 PM             1,167 file_475.txt\n",
      "08/06/2018  07:47 PM             1,149 file_476.txt\n",
      "08/06/2018  07:47 PM               557 file_477.txt\n",
      "08/06/2018  07:47 PM             1,274 file_478.txt\n",
      "08/06/2018  07:47 PM             1,173 file_479.txt\n",
      "08/06/2018  07:47 PM             1,212 file_48.txt\n",
      "08/06/2018  07:47 PM             1,008 file_480.txt\n",
      "08/06/2018  07:47 PM             1,226 file_481.txt\n",
      "08/06/2018  07:47 PM             1,173 file_482.txt\n",
      "08/06/2018  07:47 PM               658 file_483.txt\n",
      "08/06/2018  07:47 PM               821 file_484.txt\n",
      "08/06/2018  07:47 PM               950 file_485.txt\n",
      "08/06/2018  07:47 PM             1,137 file_486.txt\n",
      "08/06/2018  07:47 PM             1,215 file_487.txt\n",
      "08/06/2018  07:47 PM             1,449 file_488.txt\n",
      "08/06/2018  07:47 PM               719 file_489.txt\n",
      "08/06/2018  07:47 PM             1,085 file_49.txt\n",
      "08/06/2018  07:47 PM               440 file_490.txt\n",
      "08/06/2018  07:47 PM             1,203 file_491.txt\n",
      "08/06/2018  07:47 PM               933 file_492.txt\n",
      "08/06/2018  07:47 PM               249 file_493.txt\n",
      "08/06/2018  07:47 PM             1,029 file_494.txt\n",
      "08/06/2018  07:47 PM               663 file_495.txt\n",
      "08/06/2018  07:47 PM             1,173 file_496.txt\n",
      "08/06/2018  07:47 PM               434 file_497.txt\n",
      "08/06/2018  07:47 PM               735 file_498.txt\n",
      "08/06/2018  07:47 PM             1,024 file_499.txt\n",
      "08/06/2018  07:47 PM               692 file_5.txt\n",
      "08/06/2018  07:47 PM               404 file_50.txt\n",
      "08/06/2018  07:47 PM             1,114 file_51.txt\n",
      "08/06/2018  07:47 PM               662 file_52.txt\n",
      "08/06/2018  07:47 PM               825 file_53.txt\n",
      "08/06/2018  07:47 PM             1,087 file_54.txt\n",
      "08/06/2018  07:47 PM             1,178 file_55.txt\n",
      "08/06/2018  07:47 PM             1,675 file_56.txt\n",
      "08/06/2018  07:47 PM               951 file_57.txt\n",
      "08/06/2018  07:47 PM             1,090 file_58.txt\n",
      "08/06/2018  07:47 PM               988 file_59.txt\n",
      "08/06/2018  07:47 PM             1,165 file_6.txt\n",
      "08/06/2018  07:47 PM               812 file_60.txt\n",
      "08/06/2018  07:47 PM               937 file_61.txt\n",
      "08/06/2018  07:47 PM               347 file_62.txt\n",
      "08/06/2018  07:47 PM             1,050 file_63.txt\n",
      "08/06/2018  07:47 PM               944 file_64.txt\n",
      "08/06/2018  07:47 PM               871 file_65.txt\n",
      "08/06/2018  07:47 PM             1,047 file_66.txt\n",
      "08/06/2018  07:47 PM             1,126 file_67.txt\n",
      "08/06/2018  07:47 PM               929 file_68.txt\n",
      "08/06/2018  07:47 PM             1,145 file_69.txt\n",
      "08/06/2018  07:47 PM               776 file_7.txt\n",
      "08/06/2018  07:47 PM               842 file_70.txt\n",
      "08/06/2018  07:47 PM               495 file_71.txt\n",
      "08/06/2018  07:47 PM               805 file_72.txt\n",
      "08/06/2018  07:47 PM               993 file_73.txt\n",
      "08/06/2018  07:47 PM               566 file_74.txt\n",
      "08/06/2018  07:47 PM               891 file_75.txt\n",
      "08/06/2018  07:47 PM               876 file_76.txt\n",
      "08/06/2018  07:47 PM               321 file_77.txt\n",
      "08/06/2018  07:47 PM               575 file_78.txt\n",
      "08/06/2018  07:47 PM               345 file_79.txt\n",
      "08/06/2018  07:47 PM             1,234 file_8.txt\n",
      "08/06/2018  07:47 PM               885 file_80.txt\n",
      "08/06/2018  07:47 PM             1,217 file_81.txt\n",
      "08/06/2018  07:47 PM             1,232 file_82.txt\n",
      "08/06/2018  07:47 PM             1,066 file_83.txt\n",
      "08/06/2018  07:47 PM               781 file_84.txt\n",
      "08/06/2018  07:47 PM               601 file_85.txt\n",
      "08/06/2018  07:47 PM               719 file_86.txt\n",
      "08/06/2018  07:47 PM               435 file_87.txt\n",
      "08/06/2018  07:47 PM               416 file_88.txt\n",
      "08/06/2018  07:47 PM               977 file_89.txt\n",
      "08/06/2018  07:47 PM               645 file_9.txt\n",
      "08/06/2018  07:47 PM               286 file_90.txt\n",
      "08/06/2018  07:47 PM               879 file_91.txt\n",
      "08/06/2018  07:47 PM               980 file_92.txt\n",
      "08/06/2018  07:47 PM             1,303 file_93.txt\n",
      "08/06/2018  07:47 PM               439 file_94.txt\n",
      "08/06/2018  07:47 PM               548 file_95.txt\n",
      "08/06/2018  07:47 PM               545 file_96.txt\n",
      "08/06/2018  07:47 PM             1,232 file_97.txt\n",
      "08/06/2018  07:47 PM             1,074 file_98.txt\n",
      "08/06/2018  07:47 PM             1,179 file_99.txt\n",
      "             500 File(s)        440,516 bytes\n",
      "\n",
      " Directory of C:\\Users\\318310\\Desktop\\Data Incubator\\New_notebook\\Data-projects-master\n",
      "\n",
      "\n",
      " Directory of C:\\Users\\318310\\Desktop\\Data Incubator\\New_notebook\\Data-projects-master\n",
      "\n",
      "\n",
      " Directory of C:\\Users\\318310\\Desktop\\Data Incubator\\New_notebook\\Data-projects-master\n",
      "\n",
      "\n",
      " Directory of C:\\Users\\318310\\Desktop\\Data Incubator\\New_notebook\\Data-projects-master\n",
      "\n",
      "\n",
      " Directory of C:\\Users\\318310\\Desktop\\Data Incubator\\New_notebook\\Data-projects-master\n",
      "\n",
      "\n",
      " Directory of C:\\Users\\318310\\Desktop\\Data Incubator\\New_notebook\\Data-projects-master\n",
      "\n"
     ]
    },
    {
     "name": "stderr",
     "output_type": "stream",
     "text": [
      "File Not Found\n"
     ]
    }
   ],
   "source": [
    "ls Multi_abstracts_files # Downloaded files (50 per class)"
   ]
  },
  {
   "cell_type": "code",
   "execution_count": 52,
   "metadata": {},
   "outputs": [],
   "source": [
    "# Classify the downloaded abstracts\n",
    "classify_abstract(path, selected_classifier, tfidf)"
   ]
  },
  {
   "cell_type": "code",
   "execution_count": 53,
   "metadata": {},
   "outputs": [
    {
     "name": "stdout",
     "output_type": "stream",
     "text": [
      " Volume in drive C is Windows\n",
      " Volume Serial Number is 7A3C-D3D2\n",
      "\n",
      " Directory of C:\\Users\\318310\\Desktop\\Data Incubator\\New_notebook\\Data-projects-master\\Multi_abstracts_files\n",
      "\n",
      "08/06/2018  07:47 PM    <DIR>          .\n",
      "08/06/2018  07:47 PM    <DIR>          ..\n",
      "08/06/2018  07:47 PM    <DIR>          biology_abstracts\n",
      "08/06/2018  07:47 PM    <DIR>          chemistry_abstracts\n",
      "08/06/2018  07:47 PM    <DIR>          history_abstracts\n",
      "08/06/2018  07:47 PM    <DIR>          math_abstracts\n",
      "08/06/2018  07:47 PM    <DIR>          physics_abstracts\n",
      "               0 File(s)              0 bytes\n",
      "               7 Dir(s)  306,608,218,112 bytes free\n"
     ]
    }
   ],
   "source": [
    "ls Multi_abstracts_files"
   ]
  },
  {
   "cell_type": "code",
   "execution_count": 54,
   "metadata": {},
   "outputs": [
    {
     "name": "stdout",
     "output_type": "stream",
     "text": [
      "Classified physics abstracts: 84\n",
      "Classified math abstracts: 101\n",
      "Classified chemistry abstracts: 95\n",
      "Classified history abstracts: 113\n",
      "Classified biology abstracts: 107\n"
     ]
    }
   ],
   "source": [
    "# Check the length of each directory (we can get an ideao of how the classification process went)\n",
    "print('Classified physics abstracts:', len(os.listdir('Multi_abstracts_files/physics_abstracts/')))\n",
    "print('Classified math abstracts:', len(os.listdir('Multi_abstracts_files/math_abstracts/')))\n",
    "print('Classified chemistry abstracts:', len(os.listdir('Multi_abstracts_files/chemistry_abstracts/')))\n",
    "print('Classified history abstracts:', len(os.listdir('Multi_abstracts_files/history_abstracts/')))\n",
    "print('Classified biology abstracts:', len(os.listdir('Multi_abstracts_files/biology_abstracts/')))"
   ]
  },
  {
   "cell_type": "code",
   "execution_count": null,
   "metadata": {},
   "outputs": [],
   "source": []
  }
 ],
 "metadata": {
  "anaconda-cloud": {},
  "kernelspec": {
   "display_name": "Python 3",
   "language": "python",
   "name": "python3"
  },
  "language_info": {
   "codemirror_mode": {
    "name": "ipython",
    "version": 3
   },
   "file_extension": ".py",
   "mimetype": "text/x-python",
   "name": "python",
   "nbconvert_exporter": "python",
   "pygments_lexer": "ipython3",
   "version": "3.6.5"
  }
 },
 "nbformat": 4,
 "nbformat_minor": 2
}
